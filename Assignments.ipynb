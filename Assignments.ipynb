{
  "nbformat": 4,
  "nbformat_minor": 0,
  "metadata": {
    "colab": {
      "provenance": []
    },
    "kernelspec": {
      "name": "python3",
      "display_name": "Python 3"
    },
    "language_info": {
      "name": "python"
    }
  },
  "cells": [
    {
      "cell_type": "markdown",
      "source": [
        "# Учебный проект об основных закономерностях рейтинга фильмов на IMDB"
      ],
      "metadata": {
        "id": "d18xzUgop1IZ"
      }
    },
    {
      "cell_type": "markdown",
      "source": [
        "Настоящий файл содержит расчет различных показателей датасета IMDB в рамках определенных преподавателем требований.\n",
        "\n",
        "Содержательная часть кода описана отдельным текстовым полем"
      ],
      "metadata": {
        "id": "Od5dfG4xA1SQ"
      }
    },
    {
      "cell_type": "markdown",
      "source": [
        "1. Загрузить туда найденные данные –> вывести первые 5 строчек датафрейма –> На 2-3 абзаца в ячейке типа Markdown (это было на основах питона) описать, что за данные, откуда, какие переменные там есть"
      ],
      "metadata": {
        "id": "5oY8oHkuPaWB"
      }
    },
    {
      "cell_type": "code",
      "execution_count": null,
      "metadata": {
        "id": "BFO620IuTp3J"
      },
      "outputs": [],
      "source": [
        "import pandas as pd\n",
        "import numpy as np\n",
        "import seaborn as sns\n",
        "import matplotlib.pyplot as plt\n",
        "df=pd.read_csv('IMDB.csv')\n",
        "df=df.drop(columns='Unnamed: 0')\n",
        "df.runtime=df.runtime.apply(lambda x: x.replace('min', '') if 'min' in x else x)\n",
        "df.runtime=df.runtime.apply(lambda x: x.replace(',', '.') if ',' in x else x)\n",
        "df.runtime=pd.to_numeric(df.runtime)"
      ]
    },
    {
      "cell_type": "code",
      "source": [
        "df.head()"
      ],
      "metadata": {
        "colab": {
          "base_uri": "https://localhost:8080/",
          "height": 293
        },
        "id": "cl8i4707T2H2",
        "outputId": "51d6ac6a-e14b-493e-ce46-799792e3a4dc"
      },
      "execution_count": null,
      "outputs": [
        {
          "output_type": "execute_result",
          "data": {
            "text/plain": [
              "    movie_id                      movie_name  year certificate  runtime  \\\n",
              "0  tt1016150  All Quiet on the Western Front  2022           R    148.0   \n",
              "1  tt2584384                     Jojo Rabbit  2019       PG-13    108.0   \n",
              "2  tt7693316                        Devotion  2022       PG-13    139.0   \n",
              "3  tt9737876   Narvik: Hitler's First Defeat  2022       TV-14    108.0   \n",
              "4  tt0361748            Inglourious Basterds  2009           R    153.0   \n",
              "\n",
              "                   genre  rating  \\\n",
              "0     Action, Drama, War     7.8   \n",
              "1     Comedy, Drama, War     7.9   \n",
              "2     Action, Drama, War     6.6   \n",
              "3    Drama, History, War     6.6   \n",
              "4  Adventure, Drama, War     8.3   \n",
              "\n",
              "                                         description           director  \n",
              "0  A young German soldier's terrifying experience...      Edward Berger  \n",
              "1  A young German boy in the Hitler Youth whose h...      Taika Waititi  \n",
              "2  A pair of U.S. Navy fighter pilots risk their ...       J.D. Dillard  \n",
              "3  April 1940. The eyes of the world are on Narvi...   Erik Skjoldbjærg  \n",
              "4  In Nazi-occupied France during World War II, a...  Quentin Tarantino  "
            ],
            "text/html": [
              "\n",
              "  <div id=\"df-75a78acc-2688-499e-879a-2a85ffb57252\" class=\"colab-df-container\">\n",
              "    <div>\n",
              "<style scoped>\n",
              "    .dataframe tbody tr th:only-of-type {\n",
              "        vertical-align: middle;\n",
              "    }\n",
              "\n",
              "    .dataframe tbody tr th {\n",
              "        vertical-align: top;\n",
              "    }\n",
              "\n",
              "    .dataframe thead th {\n",
              "        text-align: right;\n",
              "    }\n",
              "</style>\n",
              "<table border=\"1\" class=\"dataframe\">\n",
              "  <thead>\n",
              "    <tr style=\"text-align: right;\">\n",
              "      <th></th>\n",
              "      <th>movie_id</th>\n",
              "      <th>movie_name</th>\n",
              "      <th>year</th>\n",
              "      <th>certificate</th>\n",
              "      <th>runtime</th>\n",
              "      <th>genre</th>\n",
              "      <th>rating</th>\n",
              "      <th>description</th>\n",
              "      <th>director</th>\n",
              "    </tr>\n",
              "  </thead>\n",
              "  <tbody>\n",
              "    <tr>\n",
              "      <th>0</th>\n",
              "      <td>tt1016150</td>\n",
              "      <td>All Quiet on the Western Front</td>\n",
              "      <td>2022</td>\n",
              "      <td>R</td>\n",
              "      <td>148.0</td>\n",
              "      <td>Action, Drama, War</td>\n",
              "      <td>7.8</td>\n",
              "      <td>A young German soldier's terrifying experience...</td>\n",
              "      <td>Edward Berger</td>\n",
              "    </tr>\n",
              "    <tr>\n",
              "      <th>1</th>\n",
              "      <td>tt2584384</td>\n",
              "      <td>Jojo Rabbit</td>\n",
              "      <td>2019</td>\n",
              "      <td>PG-13</td>\n",
              "      <td>108.0</td>\n",
              "      <td>Comedy, Drama, War</td>\n",
              "      <td>7.9</td>\n",
              "      <td>A young German boy in the Hitler Youth whose h...</td>\n",
              "      <td>Taika Waititi</td>\n",
              "    </tr>\n",
              "    <tr>\n",
              "      <th>2</th>\n",
              "      <td>tt7693316</td>\n",
              "      <td>Devotion</td>\n",
              "      <td>2022</td>\n",
              "      <td>PG-13</td>\n",
              "      <td>139.0</td>\n",
              "      <td>Action, Drama, War</td>\n",
              "      <td>6.6</td>\n",
              "      <td>A pair of U.S. Navy fighter pilots risk their ...</td>\n",
              "      <td>J.D. Dillard</td>\n",
              "    </tr>\n",
              "    <tr>\n",
              "      <th>3</th>\n",
              "      <td>tt9737876</td>\n",
              "      <td>Narvik: Hitler's First Defeat</td>\n",
              "      <td>2022</td>\n",
              "      <td>TV-14</td>\n",
              "      <td>108.0</td>\n",
              "      <td>Drama, History, War</td>\n",
              "      <td>6.6</td>\n",
              "      <td>April 1940. The eyes of the world are on Narvi...</td>\n",
              "      <td>Erik Skjoldbjærg</td>\n",
              "    </tr>\n",
              "    <tr>\n",
              "      <th>4</th>\n",
              "      <td>tt0361748</td>\n",
              "      <td>Inglourious Basterds</td>\n",
              "      <td>2009</td>\n",
              "      <td>R</td>\n",
              "      <td>153.0</td>\n",
              "      <td>Adventure, Drama, War</td>\n",
              "      <td>8.3</td>\n",
              "      <td>In Nazi-occupied France during World War II, a...</td>\n",
              "      <td>Quentin Tarantino</td>\n",
              "    </tr>\n",
              "  </tbody>\n",
              "</table>\n",
              "</div>\n",
              "    <div class=\"colab-df-buttons\">\n",
              "\n",
              "  <div class=\"colab-df-container\">\n",
              "    <button class=\"colab-df-convert\" onclick=\"convertToInteractive('df-75a78acc-2688-499e-879a-2a85ffb57252')\"\n",
              "            title=\"Convert this dataframe to an interactive table.\"\n",
              "            style=\"display:none;\">\n",
              "\n",
              "  <svg xmlns=\"http://www.w3.org/2000/svg\" height=\"24px\" viewBox=\"0 -960 960 960\">\n",
              "    <path d=\"M120-120v-720h720v720H120Zm60-500h600v-160H180v160Zm220 220h160v-160H400v160Zm0 220h160v-160H400v160ZM180-400h160v-160H180v160Zm440 0h160v-160H620v160ZM180-180h160v-160H180v160Zm440 0h160v-160H620v160Z\"/>\n",
              "  </svg>\n",
              "    </button>\n",
              "\n",
              "  <style>\n",
              "    .colab-df-container {\n",
              "      display:flex;\n",
              "      gap: 12px;\n",
              "    }\n",
              "\n",
              "    .colab-df-convert {\n",
              "      background-color: #E8F0FE;\n",
              "      border: none;\n",
              "      border-radius: 50%;\n",
              "      cursor: pointer;\n",
              "      display: none;\n",
              "      fill: #1967D2;\n",
              "      height: 32px;\n",
              "      padding: 0 0 0 0;\n",
              "      width: 32px;\n",
              "    }\n",
              "\n",
              "    .colab-df-convert:hover {\n",
              "      background-color: #E2EBFA;\n",
              "      box-shadow: 0px 1px 2px rgba(60, 64, 67, 0.3), 0px 1px 3px 1px rgba(60, 64, 67, 0.15);\n",
              "      fill: #174EA6;\n",
              "    }\n",
              "\n",
              "    .colab-df-buttons div {\n",
              "      margin-bottom: 4px;\n",
              "    }\n",
              "\n",
              "    [theme=dark] .colab-df-convert {\n",
              "      background-color: #3B4455;\n",
              "      fill: #D2E3FC;\n",
              "    }\n",
              "\n",
              "    [theme=dark] .colab-df-convert:hover {\n",
              "      background-color: #434B5C;\n",
              "      box-shadow: 0px 1px 3px 1px rgba(0, 0, 0, 0.15);\n",
              "      filter: drop-shadow(0px 1px 2px rgba(0, 0, 0, 0.3));\n",
              "      fill: #FFFFFF;\n",
              "    }\n",
              "  </style>\n",
              "\n",
              "    <script>\n",
              "      const buttonEl =\n",
              "        document.querySelector('#df-75a78acc-2688-499e-879a-2a85ffb57252 button.colab-df-convert');\n",
              "      buttonEl.style.display =\n",
              "        google.colab.kernel.accessAllowed ? 'block' : 'none';\n",
              "\n",
              "      async function convertToInteractive(key) {\n",
              "        const element = document.querySelector('#df-75a78acc-2688-499e-879a-2a85ffb57252');\n",
              "        const dataTable =\n",
              "          await google.colab.kernel.invokeFunction('convertToInteractive',\n",
              "                                                    [key], {});\n",
              "        if (!dataTable) return;\n",
              "\n",
              "        const docLinkHtml = 'Like what you see? Visit the ' +\n",
              "          '<a target=\"_blank\" href=https://colab.research.google.com/notebooks/data_table.ipynb>data table notebook</a>'\n",
              "          + ' to learn more about interactive tables.';\n",
              "        element.innerHTML = '';\n",
              "        dataTable['output_type'] = 'display_data';\n",
              "        await google.colab.output.renderOutput(dataTable, element);\n",
              "        const docLink = document.createElement('div');\n",
              "        docLink.innerHTML = docLinkHtml;\n",
              "        element.appendChild(docLink);\n",
              "      }\n",
              "    </script>\n",
              "  </div>\n",
              "\n",
              "\n",
              "<div id=\"df-eee2b746-59db-4373-be58-c0caba727871\">\n",
              "  <button class=\"colab-df-quickchart\" onclick=\"quickchart('df-eee2b746-59db-4373-be58-c0caba727871')\"\n",
              "            title=\"Suggest charts\"\n",
              "            style=\"display:none;\">\n",
              "\n",
              "<svg xmlns=\"http://www.w3.org/2000/svg\" height=\"24px\"viewBox=\"0 0 24 24\"\n",
              "     width=\"24px\">\n",
              "    <g>\n",
              "        <path d=\"M19 3H5c-1.1 0-2 .9-2 2v14c0 1.1.9 2 2 2h14c1.1 0 2-.9 2-2V5c0-1.1-.9-2-2-2zM9 17H7v-7h2v7zm4 0h-2V7h2v10zm4 0h-2v-4h2v4z\"/>\n",
              "    </g>\n",
              "</svg>\n",
              "  </button>\n",
              "\n",
              "<style>\n",
              "  .colab-df-quickchart {\n",
              "      --bg-color: #E8F0FE;\n",
              "      --fill-color: #1967D2;\n",
              "      --hover-bg-color: #E2EBFA;\n",
              "      --hover-fill-color: #174EA6;\n",
              "      --disabled-fill-color: #AAA;\n",
              "      --disabled-bg-color: #DDD;\n",
              "  }\n",
              "\n",
              "  [theme=dark] .colab-df-quickchart {\n",
              "      --bg-color: #3B4455;\n",
              "      --fill-color: #D2E3FC;\n",
              "      --hover-bg-color: #434B5C;\n",
              "      --hover-fill-color: #FFFFFF;\n",
              "      --disabled-bg-color: #3B4455;\n",
              "      --disabled-fill-color: #666;\n",
              "  }\n",
              "\n",
              "  .colab-df-quickchart {\n",
              "    background-color: var(--bg-color);\n",
              "    border: none;\n",
              "    border-radius: 50%;\n",
              "    cursor: pointer;\n",
              "    display: none;\n",
              "    fill: var(--fill-color);\n",
              "    height: 32px;\n",
              "    padding: 0;\n",
              "    width: 32px;\n",
              "  }\n",
              "\n",
              "  .colab-df-quickchart:hover {\n",
              "    background-color: var(--hover-bg-color);\n",
              "    box-shadow: 0 1px 2px rgba(60, 64, 67, 0.3), 0 1px 3px 1px rgba(60, 64, 67, 0.15);\n",
              "    fill: var(--button-hover-fill-color);\n",
              "  }\n",
              "\n",
              "  .colab-df-quickchart-complete:disabled,\n",
              "  .colab-df-quickchart-complete:disabled:hover {\n",
              "    background-color: var(--disabled-bg-color);\n",
              "    fill: var(--disabled-fill-color);\n",
              "    box-shadow: none;\n",
              "  }\n",
              "\n",
              "  .colab-df-spinner {\n",
              "    border: 2px solid var(--fill-color);\n",
              "    border-color: transparent;\n",
              "    border-bottom-color: var(--fill-color);\n",
              "    animation:\n",
              "      spin 1s steps(1) infinite;\n",
              "  }\n",
              "\n",
              "  @keyframes spin {\n",
              "    0% {\n",
              "      border-color: transparent;\n",
              "      border-bottom-color: var(--fill-color);\n",
              "      border-left-color: var(--fill-color);\n",
              "    }\n",
              "    20% {\n",
              "      border-color: transparent;\n",
              "      border-left-color: var(--fill-color);\n",
              "      border-top-color: var(--fill-color);\n",
              "    }\n",
              "    30% {\n",
              "      border-color: transparent;\n",
              "      border-left-color: var(--fill-color);\n",
              "      border-top-color: var(--fill-color);\n",
              "      border-right-color: var(--fill-color);\n",
              "    }\n",
              "    40% {\n",
              "      border-color: transparent;\n",
              "      border-right-color: var(--fill-color);\n",
              "      border-top-color: var(--fill-color);\n",
              "    }\n",
              "    60% {\n",
              "      border-color: transparent;\n",
              "      border-right-color: var(--fill-color);\n",
              "    }\n",
              "    80% {\n",
              "      border-color: transparent;\n",
              "      border-right-color: var(--fill-color);\n",
              "      border-bottom-color: var(--fill-color);\n",
              "    }\n",
              "    90% {\n",
              "      border-color: transparent;\n",
              "      border-bottom-color: var(--fill-color);\n",
              "    }\n",
              "  }\n",
              "</style>\n",
              "\n",
              "  <script>\n",
              "    async function quickchart(key) {\n",
              "      const quickchartButtonEl =\n",
              "        document.querySelector('#' + key + ' button');\n",
              "      quickchartButtonEl.disabled = true;  // To prevent multiple clicks.\n",
              "      quickchartButtonEl.classList.add('colab-df-spinner');\n",
              "      try {\n",
              "        const charts = await google.colab.kernel.invokeFunction(\n",
              "            'suggestCharts', [key], {});\n",
              "      } catch (error) {\n",
              "        console.error('Error during call to suggestCharts:', error);\n",
              "      }\n",
              "      quickchartButtonEl.classList.remove('colab-df-spinner');\n",
              "      quickchartButtonEl.classList.add('colab-df-quickchart-complete');\n",
              "    }\n",
              "    (() => {\n",
              "      let quickchartButtonEl =\n",
              "        document.querySelector('#df-eee2b746-59db-4373-be58-c0caba727871 button');\n",
              "      quickchartButtonEl.style.display =\n",
              "        google.colab.kernel.accessAllowed ? 'block' : 'none';\n",
              "    })();\n",
              "  </script>\n",
              "</div>\n",
              "\n",
              "    </div>\n",
              "  </div>\n"
            ],
            "application/vnd.google.colaboratory.intrinsic+json": {
              "type": "dataframe",
              "variable_name": "df",
              "summary": "{\n  \"name\": \"df\",\n  \"rows\": 52313,\n  \"fields\": [\n    {\n      \"column\": \"movie_id\",\n      \"properties\": {\n        \"dtype\": \"string\",\n        \"num_unique_values\": 52313,\n        \"samples\": [\n          \"tt0094593\",\n          \"tt9742392\",\n          \"tt0233418\"\n        ],\n        \"semantic_type\": \"\",\n        \"description\": \"\"\n      }\n    },\n    {\n      \"column\": \"movie_name\",\n      \"properties\": {\n        \"dtype\": \"string\",\n        \"num_unique_values\": 48245,\n        \"samples\": [\n          \"The Devil in the Room\",\n          \"Corri uomo corri\",\n          \"Angel of H.E.A.T.\"\n        ],\n        \"semantic_type\": \"\",\n        \"description\": \"\"\n      }\n    },\n    {\n      \"column\": \"year\",\n      \"properties\": {\n        \"dtype\": \"number\",\n        \"std\": 27,\n        \"min\": 1906,\n        \"max\": 2023,\n        \"num_unique_values\": 115,\n        \"samples\": [\n          1955,\n          1979,\n          1981\n        ],\n        \"semantic_type\": \"\",\n        \"description\": \"\"\n      }\n    },\n    {\n      \"column\": \"certificate\",\n      \"properties\": {\n        \"dtype\": \"category\",\n        \"num_unique_values\": 43,\n        \"samples\": [\n          \"UA\",\n          \"16+\",\n          \"AO\"\n        ],\n        \"semantic_type\": \"\",\n        \"description\": \"\"\n      }\n    },\n    {\n      \"column\": \"runtime\",\n      \"properties\": {\n        \"dtype\": \"number\",\n        \"std\": 24.61872558013658,\n        \"min\": 1.0,\n        \"max\": 776.0,\n        \"num_unique_values\": 258,\n        \"samples\": [\n          179.0,\n          95.0,\n          105.0\n        ],\n        \"semantic_type\": \"\",\n        \"description\": \"\"\n      }\n    },\n    {\n      \"column\": \"genre\",\n      \"properties\": {\n        \"dtype\": \"category\",\n        \"num_unique_values\": 1100,\n        \"samples\": [\n          \"Action, Crime, Family\",\n          \"Drama, Romance, Sci-Fi\",\n          \"Animation, Crime, Music\"\n        ],\n        \"semantic_type\": \"\",\n        \"description\": \"\"\n      }\n    },\n    {\n      \"column\": \"rating\",\n      \"properties\": {\n        \"dtype\": \"number\",\n        \"std\": 1.2681508450709043,\n        \"min\": 1.0,\n        \"max\": 9.8,\n        \"num_unique_values\": 88,\n        \"samples\": [\n          9.2,\n          7.8,\n          5.6\n        ],\n        \"semantic_type\": \"\",\n        \"description\": \"\"\n      }\n    },\n    {\n      \"column\": \"description\",\n      \"properties\": {\n        \"dtype\": \"string\",\n        \"num_unique_values\": 51969,\n        \"samples\": [\n          \"Hari Bhakt Prahlad is devoted to Bhagwan Vishnu, and nothing will distract him from this devotion. When the kingdom's emperor, Lord HiranyaKashyap, finds out that his subject is engrossed ...                See full summary\\u00a0\\u00bb\",\n          \"A village girl falls in love with the newcomer Ranjeet without knowing that he is there to get the smuggled gold that he buried in her front yard many years ago.\",\n          \"Meet Zach. Nice guy. Terrible taste in women. They leave him, but they never forget him. He's heading into the next bad break-up when the newest fad in H2O drinks starts turning his ex ...                See full summary\\u00a0\\u00bb\"\n        ],\n        \"semantic_type\": \"\",\n        \"description\": \"\"\n      }\n    },\n    {\n      \"column\": \"director\",\n      \"properties\": {\n        \"dtype\": \"category\",\n        \"num_unique_values\": 24152,\n        \"samples\": [\n          \"David Gal\\u00e1n Galindo\",\n          \"Kevin James Thornton\",\n          \"Bill Phillips\"\n        ],\n        \"semantic_type\": \"\",\n        \"description\": \"\"\n      }\n    }\n  ]\n}"
            }
          },
          "metadata": {},
          "execution_count": 8
        }
      ]
    },
    {
      "cell_type": "markdown",
      "source": [
        "**Описание переменных：**\n",
        "\n",
        "\n",
        "\n",
        "*   movie_id (строка) - уникальный номер фильма\\сериала, ID\n",
        "*   movie_name (строка) - название фильма\\сериала\n",
        "*   year (целочисленная переменная) - год выпуска фильма\\сериала\n",
        "*   certificate (строка) - возрастной рейтинг фильма\\сериала\n",
        "*   runtime (вещественная переменная) - продолжительность фильма\\сериала\n",
        "*   genre (строка) - жанры фильма\\сериала\n",
        "*   rating (вещественная переменная) - рейтинг фильма\\сериала\n",
        "*   description (строка) - описание фильма\\сериала\n",
        "*   director (строка) - режиссёр фильма\\сериала"
      ],
      "metadata": {
        "id": "ycGJqvaEUMxW"
      }
    },
    {
      "cell_type": "markdown",
      "source": [
        "2. Применить фильтрацию минимум по 5 условиям. Сделать содержательные выводы\n"
      ],
      "metadata": {
        "id": "gHge5F8fPiW9"
      }
    },
    {
      "cell_type": "markdown",
      "source": [
        "Количество фильмов\\сериалов, рейтинг которых превышает среднее значение, равняется 28252"
      ],
      "metadata": {
        "id": "gFr9Fvjx7yje"
      }
    },
    {
      "cell_type": "code",
      "source": [
        "df[df['rating']>5.72].shape[0]"
      ],
      "metadata": {
        "colab": {
          "base_uri": "https://localhost:8080/"
        },
        "id": "l2r-a-r2yYnf",
        "outputId": "38e993d4-9819-4479-b342-639083fe11bf"
      },
      "execution_count": null,
      "outputs": [
        {
          "output_type": "execute_result",
          "data": {
            "text/plain": [
              "28252"
            ]
          },
          "metadata": {},
          "execution_count": 15
        }
      ]
    },
    {
      "cell_type": "markdown",
      "source": [
        "Количество фильмов\\сериалов, продолжительность которых превышает среднее значение, равняется 20138"
      ],
      "metadata": {
        "id": "oKV7bAHB77Ix"
      }
    },
    {
      "cell_type": "code",
      "source": [
        "df[df['runtime']>98.1].shape[0]"
      ],
      "metadata": {
        "colab": {
          "base_uri": "https://localhost:8080/"
        },
        "id": "2cpTZ5pNyfKF",
        "outputId": "f1f5b67e-2914-42a2-bc7b-9fbce3aabf29"
      },
      "execution_count": null,
      "outputs": [
        {
          "output_type": "execute_result",
          "data": {
            "text/plain": [
              "20138"
            ]
          },
          "metadata": {},
          "execution_count": 19
        }
      ]
    },
    {
      "cell_type": "markdown",
      "source": [
        "Больше всего фильмов снял William Beaudine - 95"
      ],
      "metadata": {
        "id": "Z4HzJTeJ8BM5"
      }
    },
    {
      "cell_type": "code",
      "source": [
        "df.director.value_counts().head()"
      ],
      "metadata": {
        "colab": {
          "base_uri": "https://localhost:8080/"
        },
        "id": "hbf2ckbUzaai",
        "outputId": "db2d98fd-23a6-4712-9bd0-de4cfb9a724a"
      },
      "execution_count": null,
      "outputs": [
        {
          "output_type": "execute_result",
          "data": {
            "text/plain": [
              "William Beaudine    95\n",
              "Lew Landers         92\n",
              "Richard Thorpe      84\n",
              "Michael Curtiz      69\n",
              "Sam Newfield        63\n",
              "Name: director, dtype: int64"
            ]
          },
          "metadata": {},
          "execution_count": 84
        }
      ]
    },
    {
      "cell_type": "markdown",
      "source": [
        "Больше всего фильмов было выпущено в 2014 г. - 1772"
      ],
      "metadata": {
        "id": "jDvOzs_18FBo"
      }
    },
    {
      "cell_type": "code",
      "source": [
        "df.year.value_counts().head()"
      ],
      "metadata": {
        "colab": {
          "base_uri": "https://localhost:8080/"
        },
        "id": "xBPlW6Gy_2CU",
        "outputId": "c8ac40cd-6d20-4edc-c422-b763c245e495"
      },
      "execution_count": null,
      "outputs": [
        {
          "output_type": "execute_result",
          "data": {
            "text/plain": [
              "2014    1772\n",
              "2015    1666\n",
              "2013    1645\n",
              "2016    1505\n",
              "2012    1505\n",
              "Name: year, dtype: int64"
            ]
          },
          "metadata": {},
          "execution_count": 112
        }
      ]
    },
    {
      "cell_type": "markdown",
      "source": [
        "Процент фильмов с рейтингом больше 7 и снятых в XXI в. равен 6,56%"
      ],
      "metadata": {
        "id": "0AQ0kx7P8ICH"
      }
    },
    {
      "cell_type": "code",
      "source": [
        "round(df[(df.year>2000)&(df.rating>7)].shape[0]*100/df.shape[0], 2)"
      ],
      "metadata": {
        "colab": {
          "base_uri": "https://localhost:8080/"
        },
        "id": "pVQ9bnxl3Zyb",
        "outputId": "221ee422-f37b-4abc-b917-2c42452155cc"
      },
      "execution_count": null,
      "outputs": [
        {
          "output_type": "execute_result",
          "data": {
            "text/plain": [
              "6.56"
            ]
          },
          "metadata": {},
          "execution_count": 104
        }
      ]
    },
    {
      "cell_type": "markdown",
      "source": [
        "Процентов фильмов с рейтингом больше 7 и снятых в XX в. равен 7,24%"
      ],
      "metadata": {
        "id": "nFu2boh28MLu"
      }
    },
    {
      "cell_type": "code",
      "source": [
        "round(df[(df.year<2001)&(df.rating>7)].shape[0]*100/df.shape[0], 2)"
      ],
      "metadata": {
        "colab": {
          "base_uri": "https://localhost:8080/"
        },
        "id": "OQ9Eoy-P5Z6h",
        "outputId": "64d5dab8-00cc-4327-a5d0-5157065d1b3b"
      },
      "execution_count": null,
      "outputs": [
        {
          "output_type": "execute_result",
          "data": {
            "text/plain": [
              "7.24"
            ]
          },
          "metadata": {},
          "execution_count": 103
        }
      ]
    },
    {
      "cell_type": "markdown",
      "source": [
        "Процент фильмов с рейтингом меньше 4 и снятых в XXI в. равен 6.92%"
      ],
      "metadata": {
        "id": "ItCGu71KSS7X"
      }
    },
    {
      "cell_type": "code",
      "source": [
        "round(df[(df.year>2000)&(df.rating<4)].shape[0]*100/df.shape[0], 2)"
      ],
      "metadata": {
        "colab": {
          "base_uri": "https://localhost:8080/"
        },
        "id": "4VDoBiADSMZi",
        "outputId": "b2e1b72f-17ab-4a9d-9659-1309bdc65c95"
      },
      "execution_count": null,
      "outputs": [
        {
          "output_type": "execute_result",
          "data": {
            "text/plain": [
              "6.92"
            ]
          },
          "metadata": {},
          "execution_count": 42
        }
      ]
    },
    {
      "cell_type": "markdown",
      "source": [
        "Средний рейтинг фильмов снятых в XX в. 5,9"
      ],
      "metadata": {
        "id": "Lq7f4G3K8PEp"
      }
    },
    {
      "cell_type": "code",
      "source": [
        "round(np.mean(df[(df.year<2001)]['rating']), 2)"
      ],
      "metadata": {
        "colab": {
          "base_uri": "https://localhost:8080/"
        },
        "id": "aZWX2SzO63Bt",
        "outputId": "c4980da2-1d4a-41d8-fc1a-6852514bcdca"
      },
      "execution_count": null,
      "outputs": [
        {
          "output_type": "execute_result",
          "data": {
            "text/plain": [
              "5.9"
            ]
          },
          "metadata": {},
          "execution_count": 101
        }
      ]
    },
    {
      "cell_type": "markdown",
      "source": [
        "Средний рейтинг фильмов снятых снятых в XXI в. 5,55"
      ],
      "metadata": {
        "id": "dXzQRko58TfT"
      }
    },
    {
      "cell_type": "code",
      "source": [
        "round(np.mean(df[(df.year>2000)]['rating']), 2)"
      ],
      "metadata": {
        "colab": {
          "base_uri": "https://localhost:8080/"
        },
        "id": "psm9t1_z6206",
        "outputId": "2d22c4f5-4a3f-48b5-db5d-5ba3c1c4776f"
      },
      "execution_count": null,
      "outputs": [
        {
          "output_type": "execute_result",
          "data": {
            "text/plain": [
              "5.55"
            ]
          },
          "metadata": {},
          "execution_count": 102
        }
      ]
    },
    {
      "cell_type": "markdown",
      "source": [
        "Количество фильмов, одним из жанров которых является исторический, 1459"
      ],
      "metadata": {
        "id": "pmBUAzFh8V_P"
      }
    },
    {
      "cell_type": "code",
      "source": [
        "history_movies=df.genre.apply(lambda x: x if 'History' in x else 'NO')\n",
        "history_movies.shape[0]-history_movies.value_counts()[0]"
      ],
      "metadata": {
        "colab": {
          "base_uri": "https://localhost:8080/"
        },
        "id": "1kiFE9zI63Ht",
        "outputId": "3fc83591-72c2-4b00-a278-e6585c74e26d"
      },
      "execution_count": null,
      "outputs": [
        {
          "output_type": "execute_result",
          "data": {
            "text/plain": [
              "1459"
            ]
          },
          "metadata": {},
          "execution_count": 94
        }
      ]
    },
    {
      "cell_type": "markdown",
      "source": [
        "3. Отсортировать данные минимум по 3 условиям. Сделать содержательные выводы"
      ],
      "metadata": {
        "id": "RKG5P_QBPob6"
      }
    },
    {
      "cell_type": "markdown",
      "source": [
        "Наиболее популярные фильмы\\сериалы с рейтингом 9.7 и выше"
      ],
      "metadata": {
        "id": "g4tKXofN8YjR"
      }
    },
    {
      "cell_type": "code",
      "source": [
        "df.sort_values(by='rating', ascending=False).head()"
      ],
      "metadata": {
        "colab": {
          "base_uri": "https://localhost:8080/",
          "height": 362
        },
        "id": "R-_2SZ2e0uXy",
        "outputId": "ef88886c-8394-4ade-c4df-0f3fa0792553"
      },
      "execution_count": null,
      "outputs": [
        {
          "output_type": "execute_result",
          "data": {
            "text/plain": [
              "         movie_id                                        movie_name  year  \\\n",
              "25217  tt20912228  Prince Oak Oakleyski: Eurasia Handsome Sovereign  2022   \n",
              "33608   tt1053817                                  Buried in Tucson  2007   \n",
              "43864  tt21059328                    Prince Oak Oakleyski Andronovo  2022   \n",
              "3836   tt21052610   Prince Oak Oakleyski: Lord Kandanai Maneesawath  2022   \n",
              "3851   tt21114222                                 Prince of Eurasia  2022   \n",
              "\n",
              "      certificate  runtime                          genre  rating  \\\n",
              "25217    Approved     60.0                        Mystery     9.8   \n",
              "33608   Not Rated     70.0               Adventure, Drama     9.8   \n",
              "43864    Approved     65.0                  Drama, Family     9.8   \n",
              "3836     Approved     60.0  Adventure, Biography, History     9.8   \n",
              "3851     Approved     60.0     Action, Biography, History     9.7   \n",
              "\n",
              "                                             description  \\\n",
              "25217  Prince Oak Oakleyski returned to Tashkent city...   \n",
              "33608  Anton and Lena have a simple, self-obsessed re...   \n",
              "43864  It's a Family sort of genre, plus strong vibe ...   \n",
              "3836   Biography of his early life, team history, and...   \n",
              "3851   Rare historical biography of Prince Oak Oakley...   \n",
              "\n",
              "                                 director  \n",
              "25217                Prince Oak Oakleyski  \n",
              "33608                         Jeff Gallea  \n",
              "43864  I. Kolyada, \\nPrince Oak Oakleyski  \n",
              "3836   I. Kolyada, \\nPrince Oak Oakleyski  \n",
              "3851   I. Kolyada, \\nPrince Oak Oakleyski  "
            ],
            "text/html": [
              "\n",
              "  <div id=\"df-3d35dcc7-08af-420e-a14f-ba89243f7acd\" class=\"colab-df-container\">\n",
              "    <div>\n",
              "<style scoped>\n",
              "    .dataframe tbody tr th:only-of-type {\n",
              "        vertical-align: middle;\n",
              "    }\n",
              "\n",
              "    .dataframe tbody tr th {\n",
              "        vertical-align: top;\n",
              "    }\n",
              "\n",
              "    .dataframe thead th {\n",
              "        text-align: right;\n",
              "    }\n",
              "</style>\n",
              "<table border=\"1\" class=\"dataframe\">\n",
              "  <thead>\n",
              "    <tr style=\"text-align: right;\">\n",
              "      <th></th>\n",
              "      <th>movie_id</th>\n",
              "      <th>movie_name</th>\n",
              "      <th>year</th>\n",
              "      <th>certificate</th>\n",
              "      <th>runtime</th>\n",
              "      <th>genre</th>\n",
              "      <th>rating</th>\n",
              "      <th>description</th>\n",
              "      <th>director</th>\n",
              "    </tr>\n",
              "  </thead>\n",
              "  <tbody>\n",
              "    <tr>\n",
              "      <th>25217</th>\n",
              "      <td>tt20912228</td>\n",
              "      <td>Prince Oak Oakleyski: Eurasia Handsome Sovereign</td>\n",
              "      <td>2022</td>\n",
              "      <td>Approved</td>\n",
              "      <td>60.0</td>\n",
              "      <td>Mystery</td>\n",
              "      <td>9.8</td>\n",
              "      <td>Prince Oak Oakleyski returned to Tashkent city...</td>\n",
              "      <td>Prince Oak Oakleyski</td>\n",
              "    </tr>\n",
              "    <tr>\n",
              "      <th>33608</th>\n",
              "      <td>tt1053817</td>\n",
              "      <td>Buried in Tucson</td>\n",
              "      <td>2007</td>\n",
              "      <td>Not Rated</td>\n",
              "      <td>70.0</td>\n",
              "      <td>Adventure, Drama</td>\n",
              "      <td>9.8</td>\n",
              "      <td>Anton and Lena have a simple, self-obsessed re...</td>\n",
              "      <td>Jeff Gallea</td>\n",
              "    </tr>\n",
              "    <tr>\n",
              "      <th>43864</th>\n",
              "      <td>tt21059328</td>\n",
              "      <td>Prince Oak Oakleyski Andronovo</td>\n",
              "      <td>2022</td>\n",
              "      <td>Approved</td>\n",
              "      <td>65.0</td>\n",
              "      <td>Drama, Family</td>\n",
              "      <td>9.8</td>\n",
              "      <td>It's a Family sort of genre, plus strong vibe ...</td>\n",
              "      <td>I. Kolyada, \\nPrince Oak Oakleyski</td>\n",
              "    </tr>\n",
              "    <tr>\n",
              "      <th>3836</th>\n",
              "      <td>tt21052610</td>\n",
              "      <td>Prince Oak Oakleyski: Lord Kandanai Maneesawath</td>\n",
              "      <td>2022</td>\n",
              "      <td>Approved</td>\n",
              "      <td>60.0</td>\n",
              "      <td>Adventure, Biography, History</td>\n",
              "      <td>9.8</td>\n",
              "      <td>Biography of his early life, team history, and...</td>\n",
              "      <td>I. Kolyada, \\nPrince Oak Oakleyski</td>\n",
              "    </tr>\n",
              "    <tr>\n",
              "      <th>3851</th>\n",
              "      <td>tt21114222</td>\n",
              "      <td>Prince of Eurasia</td>\n",
              "      <td>2022</td>\n",
              "      <td>Approved</td>\n",
              "      <td>60.0</td>\n",
              "      <td>Action, Biography, History</td>\n",
              "      <td>9.7</td>\n",
              "      <td>Rare historical biography of Prince Oak Oakley...</td>\n",
              "      <td>I. Kolyada, \\nPrince Oak Oakleyski</td>\n",
              "    </tr>\n",
              "  </tbody>\n",
              "</table>\n",
              "</div>\n",
              "    <div class=\"colab-df-buttons\">\n",
              "\n",
              "  <div class=\"colab-df-container\">\n",
              "    <button class=\"colab-df-convert\" onclick=\"convertToInteractive('df-3d35dcc7-08af-420e-a14f-ba89243f7acd')\"\n",
              "            title=\"Convert this dataframe to an interactive table.\"\n",
              "            style=\"display:none;\">\n",
              "\n",
              "  <svg xmlns=\"http://www.w3.org/2000/svg\" height=\"24px\" viewBox=\"0 -960 960 960\">\n",
              "    <path d=\"M120-120v-720h720v720H120Zm60-500h600v-160H180v160Zm220 220h160v-160H400v160Zm0 220h160v-160H400v160ZM180-400h160v-160H180v160Zm440 0h160v-160H620v160ZM180-180h160v-160H180v160Zm440 0h160v-160H620v160Z\"/>\n",
              "  </svg>\n",
              "    </button>\n",
              "\n",
              "  <style>\n",
              "    .colab-df-container {\n",
              "      display:flex;\n",
              "      gap: 12px;\n",
              "    }\n",
              "\n",
              "    .colab-df-convert {\n",
              "      background-color: #E8F0FE;\n",
              "      border: none;\n",
              "      border-radius: 50%;\n",
              "      cursor: pointer;\n",
              "      display: none;\n",
              "      fill: #1967D2;\n",
              "      height: 32px;\n",
              "      padding: 0 0 0 0;\n",
              "      width: 32px;\n",
              "    }\n",
              "\n",
              "    .colab-df-convert:hover {\n",
              "      background-color: #E2EBFA;\n",
              "      box-shadow: 0px 1px 2px rgba(60, 64, 67, 0.3), 0px 1px 3px 1px rgba(60, 64, 67, 0.15);\n",
              "      fill: #174EA6;\n",
              "    }\n",
              "\n",
              "    .colab-df-buttons div {\n",
              "      margin-bottom: 4px;\n",
              "    }\n",
              "\n",
              "    [theme=dark] .colab-df-convert {\n",
              "      background-color: #3B4455;\n",
              "      fill: #D2E3FC;\n",
              "    }\n",
              "\n",
              "    [theme=dark] .colab-df-convert:hover {\n",
              "      background-color: #434B5C;\n",
              "      box-shadow: 0px 1px 3px 1px rgba(0, 0, 0, 0.15);\n",
              "      filter: drop-shadow(0px 1px 2px rgba(0, 0, 0, 0.3));\n",
              "      fill: #FFFFFF;\n",
              "    }\n",
              "  </style>\n",
              "\n",
              "    <script>\n",
              "      const buttonEl =\n",
              "        document.querySelector('#df-3d35dcc7-08af-420e-a14f-ba89243f7acd button.colab-df-convert');\n",
              "      buttonEl.style.display =\n",
              "        google.colab.kernel.accessAllowed ? 'block' : 'none';\n",
              "\n",
              "      async function convertToInteractive(key) {\n",
              "        const element = document.querySelector('#df-3d35dcc7-08af-420e-a14f-ba89243f7acd');\n",
              "        const dataTable =\n",
              "          await google.colab.kernel.invokeFunction('convertToInteractive',\n",
              "                                                    [key], {});\n",
              "        if (!dataTable) return;\n",
              "\n",
              "        const docLinkHtml = 'Like what you see? Visit the ' +\n",
              "          '<a target=\"_blank\" href=https://colab.research.google.com/notebooks/data_table.ipynb>data table notebook</a>'\n",
              "          + ' to learn more about interactive tables.';\n",
              "        element.innerHTML = '';\n",
              "        dataTable['output_type'] = 'display_data';\n",
              "        await google.colab.output.renderOutput(dataTable, element);\n",
              "        const docLink = document.createElement('div');\n",
              "        docLink.innerHTML = docLinkHtml;\n",
              "        element.appendChild(docLink);\n",
              "      }\n",
              "    </script>\n",
              "  </div>\n",
              "\n",
              "\n",
              "<div id=\"df-c726c8ea-3e5c-4434-8c31-94cd2344661b\">\n",
              "  <button class=\"colab-df-quickchart\" onclick=\"quickchart('df-c726c8ea-3e5c-4434-8c31-94cd2344661b')\"\n",
              "            title=\"Suggest charts\"\n",
              "            style=\"display:none;\">\n",
              "\n",
              "<svg xmlns=\"http://www.w3.org/2000/svg\" height=\"24px\"viewBox=\"0 0 24 24\"\n",
              "     width=\"24px\">\n",
              "    <g>\n",
              "        <path d=\"M19 3H5c-1.1 0-2 .9-2 2v14c0 1.1.9 2 2 2h14c1.1 0 2-.9 2-2V5c0-1.1-.9-2-2-2zM9 17H7v-7h2v7zm4 0h-2V7h2v10zm4 0h-2v-4h2v4z\"/>\n",
              "    </g>\n",
              "</svg>\n",
              "  </button>\n",
              "\n",
              "<style>\n",
              "  .colab-df-quickchart {\n",
              "      --bg-color: #E8F0FE;\n",
              "      --fill-color: #1967D2;\n",
              "      --hover-bg-color: #E2EBFA;\n",
              "      --hover-fill-color: #174EA6;\n",
              "      --disabled-fill-color: #AAA;\n",
              "      --disabled-bg-color: #DDD;\n",
              "  }\n",
              "\n",
              "  [theme=dark] .colab-df-quickchart {\n",
              "      --bg-color: #3B4455;\n",
              "      --fill-color: #D2E3FC;\n",
              "      --hover-bg-color: #434B5C;\n",
              "      --hover-fill-color: #FFFFFF;\n",
              "      --disabled-bg-color: #3B4455;\n",
              "      --disabled-fill-color: #666;\n",
              "  }\n",
              "\n",
              "  .colab-df-quickchart {\n",
              "    background-color: var(--bg-color);\n",
              "    border: none;\n",
              "    border-radius: 50%;\n",
              "    cursor: pointer;\n",
              "    display: none;\n",
              "    fill: var(--fill-color);\n",
              "    height: 32px;\n",
              "    padding: 0;\n",
              "    width: 32px;\n",
              "  }\n",
              "\n",
              "  .colab-df-quickchart:hover {\n",
              "    background-color: var(--hover-bg-color);\n",
              "    box-shadow: 0 1px 2px rgba(60, 64, 67, 0.3), 0 1px 3px 1px rgba(60, 64, 67, 0.15);\n",
              "    fill: var(--button-hover-fill-color);\n",
              "  }\n",
              "\n",
              "  .colab-df-quickchart-complete:disabled,\n",
              "  .colab-df-quickchart-complete:disabled:hover {\n",
              "    background-color: var(--disabled-bg-color);\n",
              "    fill: var(--disabled-fill-color);\n",
              "    box-shadow: none;\n",
              "  }\n",
              "\n",
              "  .colab-df-spinner {\n",
              "    border: 2px solid var(--fill-color);\n",
              "    border-color: transparent;\n",
              "    border-bottom-color: var(--fill-color);\n",
              "    animation:\n",
              "      spin 1s steps(1) infinite;\n",
              "  }\n",
              "\n",
              "  @keyframes spin {\n",
              "    0% {\n",
              "      border-color: transparent;\n",
              "      border-bottom-color: var(--fill-color);\n",
              "      border-left-color: var(--fill-color);\n",
              "    }\n",
              "    20% {\n",
              "      border-color: transparent;\n",
              "      border-left-color: var(--fill-color);\n",
              "      border-top-color: var(--fill-color);\n",
              "    }\n",
              "    30% {\n",
              "      border-color: transparent;\n",
              "      border-left-color: var(--fill-color);\n",
              "      border-top-color: var(--fill-color);\n",
              "      border-right-color: var(--fill-color);\n",
              "    }\n",
              "    40% {\n",
              "      border-color: transparent;\n",
              "      border-right-color: var(--fill-color);\n",
              "      border-top-color: var(--fill-color);\n",
              "    }\n",
              "    60% {\n",
              "      border-color: transparent;\n",
              "      border-right-color: var(--fill-color);\n",
              "    }\n",
              "    80% {\n",
              "      border-color: transparent;\n",
              "      border-right-color: var(--fill-color);\n",
              "      border-bottom-color: var(--fill-color);\n",
              "    }\n",
              "    90% {\n",
              "      border-color: transparent;\n",
              "      border-bottom-color: var(--fill-color);\n",
              "    }\n",
              "  }\n",
              "</style>\n",
              "\n",
              "  <script>\n",
              "    async function quickchart(key) {\n",
              "      const quickchartButtonEl =\n",
              "        document.querySelector('#' + key + ' button');\n",
              "      quickchartButtonEl.disabled = true;  // To prevent multiple clicks.\n",
              "      quickchartButtonEl.classList.add('colab-df-spinner');\n",
              "      try {\n",
              "        const charts = await google.colab.kernel.invokeFunction(\n",
              "            'suggestCharts', [key], {});\n",
              "      } catch (error) {\n",
              "        console.error('Error during call to suggestCharts:', error);\n",
              "      }\n",
              "      quickchartButtonEl.classList.remove('colab-df-spinner');\n",
              "      quickchartButtonEl.classList.add('colab-df-quickchart-complete');\n",
              "    }\n",
              "    (() => {\n",
              "      let quickchartButtonEl =\n",
              "        document.querySelector('#df-c726c8ea-3e5c-4434-8c31-94cd2344661b button');\n",
              "      quickchartButtonEl.style.display =\n",
              "        google.colab.kernel.accessAllowed ? 'block' : 'none';\n",
              "    })();\n",
              "  </script>\n",
              "</div>\n",
              "\n",
              "    </div>\n",
              "  </div>\n"
            ]
          },
          "metadata": {},
          "execution_count": 52
        }
      ]
    },
    {
      "cell_type": "markdown",
      "source": [
        "Фильмы с наибольшей продолжительностью достигают 776 минут"
      ],
      "metadata": {
        "id": "qQfMmE9Y8bwG"
      }
    },
    {
      "cell_type": "code",
      "source": [
        "df.sort_values(by='runtime', ascending=False).head()"
      ],
      "metadata": {
        "colab": {
          "base_uri": "https://localhost:8080/",
          "height": 293
        },
        "id": "Tuo9uVVR1H3S",
        "outputId": "f71c96dd-6243-4564-ebe1-59e4554574d2"
      },
      "execution_count": null,
      "outputs": [
        {
          "output_type": "execute_result",
          "data": {
            "text/plain": [
              "        movie_id     movie_name  year certificate  runtime  \\\n",
              "23768  tt0246135          Out 1  1971   Not Rated    776.0   \n",
              "14258  tt0131597          Split  2004   Not Rated    700.0   \n",
              "320    tt0063794  War and Peace  1965          GP    453.0   \n",
              "6258   tt0006206   Les vampires  1915   Not Rated    421.0   \n",
              "2226   tt0006917        Liberty  1916      Passed    400.0   \n",
              "\n",
              "                          genre  rating  \\\n",
              "23768            Drama, Mystery     7.5   \n",
              "14258     Action, Crime, Sci-Fi     5.2   \n",
              "320         Drama, Romance, War     8.3   \n",
              "6258   Action, Adventure, Crime     7.3   \n",
              "2226     Action, Adventure, War     3.7   \n",
              "\n",
              "                                             description  \\\n",
              "23768  Following the May 1968 civil unrest in France,...   \n",
              "14258  Split is a joltingly visual techno thriller th...   \n",
              "320    The Russian aristocracy prepares for the Frenc...   \n",
              "6258   An intrepid reporter and his loyal friend batt...   \n",
              "2226               A 20 part 2-reel Western film serial.   \n",
              "\n",
              "                                   director  \n",
              "23768  Jacques Rivette, \\nSuzanne Schiffman  \n",
              "14258                          Chaim Bianco  \n",
              "320                       Sergey Bondarchuk  \n",
              "6258                        Louis Feuillade  \n",
              "2226        Jacques Jaccard, \\nHenry MacRae  "
            ],
            "text/html": [
              "\n",
              "  <div id=\"df-08247175-754e-4d2a-a103-247bef493011\" class=\"colab-df-container\">\n",
              "    <div>\n",
              "<style scoped>\n",
              "    .dataframe tbody tr th:only-of-type {\n",
              "        vertical-align: middle;\n",
              "    }\n",
              "\n",
              "    .dataframe tbody tr th {\n",
              "        vertical-align: top;\n",
              "    }\n",
              "\n",
              "    .dataframe thead th {\n",
              "        text-align: right;\n",
              "    }\n",
              "</style>\n",
              "<table border=\"1\" class=\"dataframe\">\n",
              "  <thead>\n",
              "    <tr style=\"text-align: right;\">\n",
              "      <th></th>\n",
              "      <th>movie_id</th>\n",
              "      <th>movie_name</th>\n",
              "      <th>year</th>\n",
              "      <th>certificate</th>\n",
              "      <th>runtime</th>\n",
              "      <th>genre</th>\n",
              "      <th>rating</th>\n",
              "      <th>description</th>\n",
              "      <th>director</th>\n",
              "    </tr>\n",
              "  </thead>\n",
              "  <tbody>\n",
              "    <tr>\n",
              "      <th>23768</th>\n",
              "      <td>tt0246135</td>\n",
              "      <td>Out 1</td>\n",
              "      <td>1971</td>\n",
              "      <td>Not Rated</td>\n",
              "      <td>776.0</td>\n",
              "      <td>Drama, Mystery</td>\n",
              "      <td>7.5</td>\n",
              "      <td>Following the May 1968 civil unrest in France,...</td>\n",
              "      <td>Jacques Rivette, \\nSuzanne Schiffman</td>\n",
              "    </tr>\n",
              "    <tr>\n",
              "      <th>14258</th>\n",
              "      <td>tt0131597</td>\n",
              "      <td>Split</td>\n",
              "      <td>2004</td>\n",
              "      <td>Not Rated</td>\n",
              "      <td>700.0</td>\n",
              "      <td>Action, Crime, Sci-Fi</td>\n",
              "      <td>5.2</td>\n",
              "      <td>Split is a joltingly visual techno thriller th...</td>\n",
              "      <td>Chaim Bianco</td>\n",
              "    </tr>\n",
              "    <tr>\n",
              "      <th>320</th>\n",
              "      <td>tt0063794</td>\n",
              "      <td>War and Peace</td>\n",
              "      <td>1965</td>\n",
              "      <td>GP</td>\n",
              "      <td>453.0</td>\n",
              "      <td>Drama, Romance, War</td>\n",
              "      <td>8.3</td>\n",
              "      <td>The Russian aristocracy prepares for the Frenc...</td>\n",
              "      <td>Sergey Bondarchuk</td>\n",
              "    </tr>\n",
              "    <tr>\n",
              "      <th>6258</th>\n",
              "      <td>tt0006206</td>\n",
              "      <td>Les vampires</td>\n",
              "      <td>1915</td>\n",
              "      <td>Not Rated</td>\n",
              "      <td>421.0</td>\n",
              "      <td>Action, Adventure, Crime</td>\n",
              "      <td>7.3</td>\n",
              "      <td>An intrepid reporter and his loyal friend batt...</td>\n",
              "      <td>Louis Feuillade</td>\n",
              "    </tr>\n",
              "    <tr>\n",
              "      <th>2226</th>\n",
              "      <td>tt0006917</td>\n",
              "      <td>Liberty</td>\n",
              "      <td>1916</td>\n",
              "      <td>Passed</td>\n",
              "      <td>400.0</td>\n",
              "      <td>Action, Adventure, War</td>\n",
              "      <td>3.7</td>\n",
              "      <td>A 20 part 2-reel Western film serial.</td>\n",
              "      <td>Jacques Jaccard, \\nHenry MacRae</td>\n",
              "    </tr>\n",
              "  </tbody>\n",
              "</table>\n",
              "</div>\n",
              "    <div class=\"colab-df-buttons\">\n",
              "\n",
              "  <div class=\"colab-df-container\">\n",
              "    <button class=\"colab-df-convert\" onclick=\"convertToInteractive('df-08247175-754e-4d2a-a103-247bef493011')\"\n",
              "            title=\"Convert this dataframe to an interactive table.\"\n",
              "            style=\"display:none;\">\n",
              "\n",
              "  <svg xmlns=\"http://www.w3.org/2000/svg\" height=\"24px\" viewBox=\"0 -960 960 960\">\n",
              "    <path d=\"M120-120v-720h720v720H120Zm60-500h600v-160H180v160Zm220 220h160v-160H400v160Zm0 220h160v-160H400v160ZM180-400h160v-160H180v160Zm440 0h160v-160H620v160ZM180-180h160v-160H180v160Zm440 0h160v-160H620v160Z\"/>\n",
              "  </svg>\n",
              "    </button>\n",
              "\n",
              "  <style>\n",
              "    .colab-df-container {\n",
              "      display:flex;\n",
              "      gap: 12px;\n",
              "    }\n",
              "\n",
              "    .colab-df-convert {\n",
              "      background-color: #E8F0FE;\n",
              "      border: none;\n",
              "      border-radius: 50%;\n",
              "      cursor: pointer;\n",
              "      display: none;\n",
              "      fill: #1967D2;\n",
              "      height: 32px;\n",
              "      padding: 0 0 0 0;\n",
              "      width: 32px;\n",
              "    }\n",
              "\n",
              "    .colab-df-convert:hover {\n",
              "      background-color: #E2EBFA;\n",
              "      box-shadow: 0px 1px 2px rgba(60, 64, 67, 0.3), 0px 1px 3px 1px rgba(60, 64, 67, 0.15);\n",
              "      fill: #174EA6;\n",
              "    }\n",
              "\n",
              "    .colab-df-buttons div {\n",
              "      margin-bottom: 4px;\n",
              "    }\n",
              "\n",
              "    [theme=dark] .colab-df-convert {\n",
              "      background-color: #3B4455;\n",
              "      fill: #D2E3FC;\n",
              "    }\n",
              "\n",
              "    [theme=dark] .colab-df-convert:hover {\n",
              "      background-color: #434B5C;\n",
              "      box-shadow: 0px 1px 3px 1px rgba(0, 0, 0, 0.15);\n",
              "      filter: drop-shadow(0px 1px 2px rgba(0, 0, 0, 0.3));\n",
              "      fill: #FFFFFF;\n",
              "    }\n",
              "  </style>\n",
              "\n",
              "    <script>\n",
              "      const buttonEl =\n",
              "        document.querySelector('#df-08247175-754e-4d2a-a103-247bef493011 button.colab-df-convert');\n",
              "      buttonEl.style.display =\n",
              "        google.colab.kernel.accessAllowed ? 'block' : 'none';\n",
              "\n",
              "      async function convertToInteractive(key) {\n",
              "        const element = document.querySelector('#df-08247175-754e-4d2a-a103-247bef493011');\n",
              "        const dataTable =\n",
              "          await google.colab.kernel.invokeFunction('convertToInteractive',\n",
              "                                                    [key], {});\n",
              "        if (!dataTable) return;\n",
              "\n",
              "        const docLinkHtml = 'Like what you see? Visit the ' +\n",
              "          '<a target=\"_blank\" href=https://colab.research.google.com/notebooks/data_table.ipynb>data table notebook</a>'\n",
              "          + ' to learn more about interactive tables.';\n",
              "        element.innerHTML = '';\n",
              "        dataTable['output_type'] = 'display_data';\n",
              "        await google.colab.output.renderOutput(dataTable, element);\n",
              "        const docLink = document.createElement('div');\n",
              "        docLink.innerHTML = docLinkHtml;\n",
              "        element.appendChild(docLink);\n",
              "      }\n",
              "    </script>\n",
              "  </div>\n",
              "\n",
              "\n",
              "<div id=\"df-60b2eded-8d8c-47ca-80ea-5f12bdf42504\">\n",
              "  <button class=\"colab-df-quickchart\" onclick=\"quickchart('df-60b2eded-8d8c-47ca-80ea-5f12bdf42504')\"\n",
              "            title=\"Suggest charts\"\n",
              "            style=\"display:none;\">\n",
              "\n",
              "<svg xmlns=\"http://www.w3.org/2000/svg\" height=\"24px\"viewBox=\"0 0 24 24\"\n",
              "     width=\"24px\">\n",
              "    <g>\n",
              "        <path d=\"M19 3H5c-1.1 0-2 .9-2 2v14c0 1.1.9 2 2 2h14c1.1 0 2-.9 2-2V5c0-1.1-.9-2-2-2zM9 17H7v-7h2v7zm4 0h-2V7h2v10zm4 0h-2v-4h2v4z\"/>\n",
              "    </g>\n",
              "</svg>\n",
              "  </button>\n",
              "\n",
              "<style>\n",
              "  .colab-df-quickchart {\n",
              "      --bg-color: #E8F0FE;\n",
              "      --fill-color: #1967D2;\n",
              "      --hover-bg-color: #E2EBFA;\n",
              "      --hover-fill-color: #174EA6;\n",
              "      --disabled-fill-color: #AAA;\n",
              "      --disabled-bg-color: #DDD;\n",
              "  }\n",
              "\n",
              "  [theme=dark] .colab-df-quickchart {\n",
              "      --bg-color: #3B4455;\n",
              "      --fill-color: #D2E3FC;\n",
              "      --hover-bg-color: #434B5C;\n",
              "      --hover-fill-color: #FFFFFF;\n",
              "      --disabled-bg-color: #3B4455;\n",
              "      --disabled-fill-color: #666;\n",
              "  }\n",
              "\n",
              "  .colab-df-quickchart {\n",
              "    background-color: var(--bg-color);\n",
              "    border: none;\n",
              "    border-radius: 50%;\n",
              "    cursor: pointer;\n",
              "    display: none;\n",
              "    fill: var(--fill-color);\n",
              "    height: 32px;\n",
              "    padding: 0;\n",
              "    width: 32px;\n",
              "  }\n",
              "\n",
              "  .colab-df-quickchart:hover {\n",
              "    background-color: var(--hover-bg-color);\n",
              "    box-shadow: 0 1px 2px rgba(60, 64, 67, 0.3), 0 1px 3px 1px rgba(60, 64, 67, 0.15);\n",
              "    fill: var(--button-hover-fill-color);\n",
              "  }\n",
              "\n",
              "  .colab-df-quickchart-complete:disabled,\n",
              "  .colab-df-quickchart-complete:disabled:hover {\n",
              "    background-color: var(--disabled-bg-color);\n",
              "    fill: var(--disabled-fill-color);\n",
              "    box-shadow: none;\n",
              "  }\n",
              "\n",
              "  .colab-df-spinner {\n",
              "    border: 2px solid var(--fill-color);\n",
              "    border-color: transparent;\n",
              "    border-bottom-color: var(--fill-color);\n",
              "    animation:\n",
              "      spin 1s steps(1) infinite;\n",
              "  }\n",
              "\n",
              "  @keyframes spin {\n",
              "    0% {\n",
              "      border-color: transparent;\n",
              "      border-bottom-color: var(--fill-color);\n",
              "      border-left-color: var(--fill-color);\n",
              "    }\n",
              "    20% {\n",
              "      border-color: transparent;\n",
              "      border-left-color: var(--fill-color);\n",
              "      border-top-color: var(--fill-color);\n",
              "    }\n",
              "    30% {\n",
              "      border-color: transparent;\n",
              "      border-left-color: var(--fill-color);\n",
              "      border-top-color: var(--fill-color);\n",
              "      border-right-color: var(--fill-color);\n",
              "    }\n",
              "    40% {\n",
              "      border-color: transparent;\n",
              "      border-right-color: var(--fill-color);\n",
              "      border-top-color: var(--fill-color);\n",
              "    }\n",
              "    60% {\n",
              "      border-color: transparent;\n",
              "      border-right-color: var(--fill-color);\n",
              "    }\n",
              "    80% {\n",
              "      border-color: transparent;\n",
              "      border-right-color: var(--fill-color);\n",
              "      border-bottom-color: var(--fill-color);\n",
              "    }\n",
              "    90% {\n",
              "      border-color: transparent;\n",
              "      border-bottom-color: var(--fill-color);\n",
              "    }\n",
              "  }\n",
              "</style>\n",
              "\n",
              "  <script>\n",
              "    async function quickchart(key) {\n",
              "      const quickchartButtonEl =\n",
              "        document.querySelector('#' + key + ' button');\n",
              "      quickchartButtonEl.disabled = true;  // To prevent multiple clicks.\n",
              "      quickchartButtonEl.classList.add('colab-df-spinner');\n",
              "      try {\n",
              "        const charts = await google.colab.kernel.invokeFunction(\n",
              "            'suggestCharts', [key], {});\n",
              "      } catch (error) {\n",
              "        console.error('Error during call to suggestCharts:', error);\n",
              "      }\n",
              "      quickchartButtonEl.classList.remove('colab-df-spinner');\n",
              "      quickchartButtonEl.classList.add('colab-df-quickchart-complete');\n",
              "    }\n",
              "    (() => {\n",
              "      let quickchartButtonEl =\n",
              "        document.querySelector('#df-60b2eded-8d8c-47ca-80ea-5f12bdf42504 button');\n",
              "      quickchartButtonEl.style.display =\n",
              "        google.colab.kernel.accessAllowed ? 'block' : 'none';\n",
              "    })();\n",
              "  </script>\n",
              "</div>\n",
              "\n",
              "    </div>\n",
              "  </div>\n"
            ]
          },
          "metadata": {},
          "execution_count": 83
        }
      ]
    },
    {
      "cell_type": "markdown",
      "source": [
        "Самые старые сериалы\\фильмы, представленные на IMDB относятся не позже чем к началу 1906 г."
      ],
      "metadata": {
        "id": "kog4_53_8efa"
      }
    },
    {
      "cell_type": "code",
      "source": [
        "df.sort_values(by='year').head()"
      ],
      "metadata": {
        "colab": {
          "base_uri": "https://localhost:8080/",
          "height": 293
        },
        "id": "uu8u44fR61xO",
        "outputId": "0c8b1edd-9853-4460-f17a-358a5bd92ecc"
      },
      "execution_count": null,
      "outputs": [
        {
          "output_type": "execute_result",
          "data": {
            "text/plain": [
              "        movie_id                    movie_name  year certificate  runtime  \\\n",
              "3491   tt0000574   The Story of the Kelly Gang  1906   Not Rated     70.0   \n",
              "3730   tt1799590    Life and Passion of Christ  1907   Not Rated     45.0   \n",
              "3874   tt0189984      The Scottish Covenanters  1909   Not Rated     55.0   \n",
              "42084  tt0002199  From the Manger to the Cross  1912       TV-PG     71.0   \n",
              "3660   tt0002101                     Cleopatra  1912     Unrated    100.0   \n",
              "\n",
              "                              genre  rating  \\\n",
              "3491   Action, Adventure, Biography     6.0   \n",
              "3730      Biography, Drama, History     6.7   \n",
              "3874                 Drama, History     5.0   \n",
              "42084              Biography, Drama     5.8   \n",
              "3660                 Drama, History     5.1   \n",
              "\n",
              "                                             description            director  \n",
              "3491   Story of Ned Kelly, an infamous 19th-century A...        Charles Tait  \n",
              "3730   Depicting well-known incidents in the life of ...     Ferdinand Zecca  \n",
              "3874                                          Add a Plot        Joseph Perry  \n",
              "42084  An account of the life of Jesus Christ accordi...       Sidney Olcott  \n",
              "3660   The fabled queen of Egypt's affair with Roman ...  Charles L. Gaskill  "
            ],
            "text/html": [
              "\n",
              "  <div id=\"df-fbca9ef0-aab0-4d37-8c47-1030fe46d693\" class=\"colab-df-container\">\n",
              "    <div>\n",
              "<style scoped>\n",
              "    .dataframe tbody tr th:only-of-type {\n",
              "        vertical-align: middle;\n",
              "    }\n",
              "\n",
              "    .dataframe tbody tr th {\n",
              "        vertical-align: top;\n",
              "    }\n",
              "\n",
              "    .dataframe thead th {\n",
              "        text-align: right;\n",
              "    }\n",
              "</style>\n",
              "<table border=\"1\" class=\"dataframe\">\n",
              "  <thead>\n",
              "    <tr style=\"text-align: right;\">\n",
              "      <th></th>\n",
              "      <th>movie_id</th>\n",
              "      <th>movie_name</th>\n",
              "      <th>year</th>\n",
              "      <th>certificate</th>\n",
              "      <th>runtime</th>\n",
              "      <th>genre</th>\n",
              "      <th>rating</th>\n",
              "      <th>description</th>\n",
              "      <th>director</th>\n",
              "    </tr>\n",
              "  </thead>\n",
              "  <tbody>\n",
              "    <tr>\n",
              "      <th>3491</th>\n",
              "      <td>tt0000574</td>\n",
              "      <td>The Story of the Kelly Gang</td>\n",
              "      <td>1906</td>\n",
              "      <td>Not Rated</td>\n",
              "      <td>70.0</td>\n",
              "      <td>Action, Adventure, Biography</td>\n",
              "      <td>6.0</td>\n",
              "      <td>Story of Ned Kelly, an infamous 19th-century A...</td>\n",
              "      <td>Charles Tait</td>\n",
              "    </tr>\n",
              "    <tr>\n",
              "      <th>3730</th>\n",
              "      <td>tt1799590</td>\n",
              "      <td>Life and Passion of Christ</td>\n",
              "      <td>1907</td>\n",
              "      <td>Not Rated</td>\n",
              "      <td>45.0</td>\n",
              "      <td>Biography, Drama, History</td>\n",
              "      <td>6.7</td>\n",
              "      <td>Depicting well-known incidents in the life of ...</td>\n",
              "      <td>Ferdinand Zecca</td>\n",
              "    </tr>\n",
              "    <tr>\n",
              "      <th>3874</th>\n",
              "      <td>tt0189984</td>\n",
              "      <td>The Scottish Covenanters</td>\n",
              "      <td>1909</td>\n",
              "      <td>Not Rated</td>\n",
              "      <td>55.0</td>\n",
              "      <td>Drama, History</td>\n",
              "      <td>5.0</td>\n",
              "      <td>Add a Plot</td>\n",
              "      <td>Joseph Perry</td>\n",
              "    </tr>\n",
              "    <tr>\n",
              "      <th>42084</th>\n",
              "      <td>tt0002199</td>\n",
              "      <td>From the Manger to the Cross</td>\n",
              "      <td>1912</td>\n",
              "      <td>TV-PG</td>\n",
              "      <td>71.0</td>\n",
              "      <td>Biography, Drama</td>\n",
              "      <td>5.8</td>\n",
              "      <td>An account of the life of Jesus Christ accordi...</td>\n",
              "      <td>Sidney Olcott</td>\n",
              "    </tr>\n",
              "    <tr>\n",
              "      <th>3660</th>\n",
              "      <td>tt0002101</td>\n",
              "      <td>Cleopatra</td>\n",
              "      <td>1912</td>\n",
              "      <td>Unrated</td>\n",
              "      <td>100.0</td>\n",
              "      <td>Drama, History</td>\n",
              "      <td>5.1</td>\n",
              "      <td>The fabled queen of Egypt's affair with Roman ...</td>\n",
              "      <td>Charles L. Gaskill</td>\n",
              "    </tr>\n",
              "  </tbody>\n",
              "</table>\n",
              "</div>\n",
              "    <div class=\"colab-df-buttons\">\n",
              "\n",
              "  <div class=\"colab-df-container\">\n",
              "    <button class=\"colab-df-convert\" onclick=\"convertToInteractive('df-fbca9ef0-aab0-4d37-8c47-1030fe46d693')\"\n",
              "            title=\"Convert this dataframe to an interactive table.\"\n",
              "            style=\"display:none;\">\n",
              "\n",
              "  <svg xmlns=\"http://www.w3.org/2000/svg\" height=\"24px\" viewBox=\"0 -960 960 960\">\n",
              "    <path d=\"M120-120v-720h720v720H120Zm60-500h600v-160H180v160Zm220 220h160v-160H400v160Zm0 220h160v-160H400v160ZM180-400h160v-160H180v160Zm440 0h160v-160H620v160ZM180-180h160v-160H180v160Zm440 0h160v-160H620v160Z\"/>\n",
              "  </svg>\n",
              "    </button>\n",
              "\n",
              "  <style>\n",
              "    .colab-df-container {\n",
              "      display:flex;\n",
              "      gap: 12px;\n",
              "    }\n",
              "\n",
              "    .colab-df-convert {\n",
              "      background-color: #E8F0FE;\n",
              "      border: none;\n",
              "      border-radius: 50%;\n",
              "      cursor: pointer;\n",
              "      display: none;\n",
              "      fill: #1967D2;\n",
              "      height: 32px;\n",
              "      padding: 0 0 0 0;\n",
              "      width: 32px;\n",
              "    }\n",
              "\n",
              "    .colab-df-convert:hover {\n",
              "      background-color: #E2EBFA;\n",
              "      box-shadow: 0px 1px 2px rgba(60, 64, 67, 0.3), 0px 1px 3px 1px rgba(60, 64, 67, 0.15);\n",
              "      fill: #174EA6;\n",
              "    }\n",
              "\n",
              "    .colab-df-buttons div {\n",
              "      margin-bottom: 4px;\n",
              "    }\n",
              "\n",
              "    [theme=dark] .colab-df-convert {\n",
              "      background-color: #3B4455;\n",
              "      fill: #D2E3FC;\n",
              "    }\n",
              "\n",
              "    [theme=dark] .colab-df-convert:hover {\n",
              "      background-color: #434B5C;\n",
              "      box-shadow: 0px 1px 3px 1px rgba(0, 0, 0, 0.15);\n",
              "      filter: drop-shadow(0px 1px 2px rgba(0, 0, 0, 0.3));\n",
              "      fill: #FFFFFF;\n",
              "    }\n",
              "  </style>\n",
              "\n",
              "    <script>\n",
              "      const buttonEl =\n",
              "        document.querySelector('#df-fbca9ef0-aab0-4d37-8c47-1030fe46d693 button.colab-df-convert');\n",
              "      buttonEl.style.display =\n",
              "        google.colab.kernel.accessAllowed ? 'block' : 'none';\n",
              "\n",
              "      async function convertToInteractive(key) {\n",
              "        const element = document.querySelector('#df-fbca9ef0-aab0-4d37-8c47-1030fe46d693');\n",
              "        const dataTable =\n",
              "          await google.colab.kernel.invokeFunction('convertToInteractive',\n",
              "                                                    [key], {});\n",
              "        if (!dataTable) return;\n",
              "\n",
              "        const docLinkHtml = 'Like what you see? Visit the ' +\n",
              "          '<a target=\"_blank\" href=https://colab.research.google.com/notebooks/data_table.ipynb>data table notebook</a>'\n",
              "          + ' to learn more about interactive tables.';\n",
              "        element.innerHTML = '';\n",
              "        dataTable['output_type'] = 'display_data';\n",
              "        await google.colab.output.renderOutput(dataTable, element);\n",
              "        const docLink = document.createElement('div');\n",
              "        docLink.innerHTML = docLinkHtml;\n",
              "        element.appendChild(docLink);\n",
              "      }\n",
              "    </script>\n",
              "  </div>\n",
              "\n",
              "\n",
              "<div id=\"df-76e34b80-05f3-467e-b675-1f048e9fe9db\">\n",
              "  <button class=\"colab-df-quickchart\" onclick=\"quickchart('df-76e34b80-05f3-467e-b675-1f048e9fe9db')\"\n",
              "            title=\"Suggest charts\"\n",
              "            style=\"display:none;\">\n",
              "\n",
              "<svg xmlns=\"http://www.w3.org/2000/svg\" height=\"24px\"viewBox=\"0 0 24 24\"\n",
              "     width=\"24px\">\n",
              "    <g>\n",
              "        <path d=\"M19 3H5c-1.1 0-2 .9-2 2v14c0 1.1.9 2 2 2h14c1.1 0 2-.9 2-2V5c0-1.1-.9-2-2-2zM9 17H7v-7h2v7zm4 0h-2V7h2v10zm4 0h-2v-4h2v4z\"/>\n",
              "    </g>\n",
              "</svg>\n",
              "  </button>\n",
              "\n",
              "<style>\n",
              "  .colab-df-quickchart {\n",
              "      --bg-color: #E8F0FE;\n",
              "      --fill-color: #1967D2;\n",
              "      --hover-bg-color: #E2EBFA;\n",
              "      --hover-fill-color: #174EA6;\n",
              "      --disabled-fill-color: #AAA;\n",
              "      --disabled-bg-color: #DDD;\n",
              "  }\n",
              "\n",
              "  [theme=dark] .colab-df-quickchart {\n",
              "      --bg-color: #3B4455;\n",
              "      --fill-color: #D2E3FC;\n",
              "      --hover-bg-color: #434B5C;\n",
              "      --hover-fill-color: #FFFFFF;\n",
              "      --disabled-bg-color: #3B4455;\n",
              "      --disabled-fill-color: #666;\n",
              "  }\n",
              "\n",
              "  .colab-df-quickchart {\n",
              "    background-color: var(--bg-color);\n",
              "    border: none;\n",
              "    border-radius: 50%;\n",
              "    cursor: pointer;\n",
              "    display: none;\n",
              "    fill: var(--fill-color);\n",
              "    height: 32px;\n",
              "    padding: 0;\n",
              "    width: 32px;\n",
              "  }\n",
              "\n",
              "  .colab-df-quickchart:hover {\n",
              "    background-color: var(--hover-bg-color);\n",
              "    box-shadow: 0 1px 2px rgba(60, 64, 67, 0.3), 0 1px 3px 1px rgba(60, 64, 67, 0.15);\n",
              "    fill: var(--button-hover-fill-color);\n",
              "  }\n",
              "\n",
              "  .colab-df-quickchart-complete:disabled,\n",
              "  .colab-df-quickchart-complete:disabled:hover {\n",
              "    background-color: var(--disabled-bg-color);\n",
              "    fill: var(--disabled-fill-color);\n",
              "    box-shadow: none;\n",
              "  }\n",
              "\n",
              "  .colab-df-spinner {\n",
              "    border: 2px solid var(--fill-color);\n",
              "    border-color: transparent;\n",
              "    border-bottom-color: var(--fill-color);\n",
              "    animation:\n",
              "      spin 1s steps(1) infinite;\n",
              "  }\n",
              "\n",
              "  @keyframes spin {\n",
              "    0% {\n",
              "      border-color: transparent;\n",
              "      border-bottom-color: var(--fill-color);\n",
              "      border-left-color: var(--fill-color);\n",
              "    }\n",
              "    20% {\n",
              "      border-color: transparent;\n",
              "      border-left-color: var(--fill-color);\n",
              "      border-top-color: var(--fill-color);\n",
              "    }\n",
              "    30% {\n",
              "      border-color: transparent;\n",
              "      border-left-color: var(--fill-color);\n",
              "      border-top-color: var(--fill-color);\n",
              "      border-right-color: var(--fill-color);\n",
              "    }\n",
              "    40% {\n",
              "      border-color: transparent;\n",
              "      border-right-color: var(--fill-color);\n",
              "      border-top-color: var(--fill-color);\n",
              "    }\n",
              "    60% {\n",
              "      border-color: transparent;\n",
              "      border-right-color: var(--fill-color);\n",
              "    }\n",
              "    80% {\n",
              "      border-color: transparent;\n",
              "      border-right-color: var(--fill-color);\n",
              "      border-bottom-color: var(--fill-color);\n",
              "    }\n",
              "    90% {\n",
              "      border-color: transparent;\n",
              "      border-bottom-color: var(--fill-color);\n",
              "    }\n",
              "  }\n",
              "</style>\n",
              "\n",
              "  <script>\n",
              "    async function quickchart(key) {\n",
              "      const quickchartButtonEl =\n",
              "        document.querySelector('#' + key + ' button');\n",
              "      quickchartButtonEl.disabled = true;  // To prevent multiple clicks.\n",
              "      quickchartButtonEl.classList.add('colab-df-spinner');\n",
              "      try {\n",
              "        const charts = await google.colab.kernel.invokeFunction(\n",
              "            'suggestCharts', [key], {});\n",
              "      } catch (error) {\n",
              "        console.error('Error during call to suggestCharts:', error);\n",
              "      }\n",
              "      quickchartButtonEl.classList.remove('colab-df-spinner');\n",
              "      quickchartButtonEl.classList.add('colab-df-quickchart-complete');\n",
              "    }\n",
              "    (() => {\n",
              "      let quickchartButtonEl =\n",
              "        document.querySelector('#df-76e34b80-05f3-467e-b675-1f048e9fe9db button');\n",
              "      quickchartButtonEl.style.display =\n",
              "        google.colab.kernel.accessAllowed ? 'block' : 'none';\n",
              "    })();\n",
              "  </script>\n",
              "</div>\n",
              "\n",
              "    </div>\n",
              "  </div>\n"
            ]
          },
          "metadata": {},
          "execution_count": 105
        }
      ]
    },
    {
      "cell_type": "code",
      "source": [
        "df.year.value_counts().head()"
      ],
      "metadata": {
        "colab": {
          "base_uri": "https://localhost:8080/"
        },
        "id": "Msfvb88G-LFT",
        "outputId": "6ee9c0cc-03fe-4ea2-f55b-e34e844966c0"
      },
      "execution_count": null,
      "outputs": [
        {
          "output_type": "execute_result",
          "data": {
            "text/plain": [
              "2014    1772\n",
              "2015    1666\n",
              "2013    1645\n",
              "2016    1505\n",
              "2012    1505\n",
              "Name: year, dtype: int64"
            ]
          },
          "metadata": {},
          "execution_count": 3
        }
      ]
    },
    {
      "cell_type": "markdown",
      "source": [
        "# Этап 2\n"
      ],
      "metadata": {
        "id": "3n8NQt-sqCo3"
      }
    },
    {
      "cell_type": "markdown",
      "source": [
        "1. Создайте частотные таблицы по тем переменным, по которым это возможно.  В помощь теория из Темы 4 онлайн-курса. Прокомментируйте результаты в ячейке типа Markdown."
      ],
      "metadata": {
        "id": "Uq56Yd-qqM7T"
      }
    },
    {
      "cell_type": "markdown",
      "source": [
        "Больше всего фильмов было выпущено в 2014, 2015, 2013, 2012 и 2017 годах."
      ],
      "metadata": {
        "id": "KlLOOOUGxU8x"
      }
    },
    {
      "cell_type": "code",
      "source": [
        "df.year.value_counts().head()"
      ],
      "metadata": {
        "id": "WtyEG5lRqRO5",
        "colab": {
          "base_uri": "https://localhost:8080/"
        },
        "outputId": "a1f21100-c12c-4af5-ed0c-dc3d9511e76c"
      },
      "execution_count": null,
      "outputs": [
        {
          "output_type": "execute_result",
          "data": {
            "text/plain": [
              "2014    1772\n",
              "2015    1666\n",
              "2013    1645\n",
              "2016    1505\n",
              "2012    1505\n",
              "Name: year, dtype: int64"
            ]
          },
          "metadata": {},
          "execution_count": 29
        }
      ]
    },
    {
      "cell_type": "markdown",
      "source": [
        "Среди возрастных рейтингов фильмов самым популярным после Not Rated (неоцененных) явлется R (до 17 лет просмотр исключительно с родителями)."
      ],
      "metadata": {
        "id": "-01zyAMnyJ-d"
      }
    },
    {
      "cell_type": "code",
      "source": [
        "df.certificate.value_counts().head(6)"
      ],
      "metadata": {
        "colab": {
          "base_uri": "https://localhost:8080/"
        },
        "id": "pYEL7Vt8ySLa",
        "outputId": "f4c73981-5697-4495-a6e5-ec0ba4b4d25d"
      },
      "execution_count": null,
      "outputs": [
        {
          "output_type": "execute_result",
          "data": {
            "text/plain": [
              "Not Rated    15408\n",
              "R            13227\n",
              "Approved      4761\n",
              "PG-13         3931\n",
              "Passed        3832\n",
              "PG            3731\n",
              "Name: certificate, dtype: int64"
            ]
          },
          "metadata": {},
          "execution_count": 30
        }
      ]
    },
    {
      "cell_type": "markdown",
      "source": [
        "Если говорить о жанрах, то больше всего было снято фильмов в жанре Романтика - 2577. Далее идут жанры Хоррор, Комедия и Экшен."
      ],
      "metadata": {
        "id": "E6q_0iipz-dP"
      }
    },
    {
      "cell_type": "code",
      "source": [
        "df.genre.value_counts().head()"
      ],
      "metadata": {
        "colab": {
          "base_uri": "https://localhost:8080/"
        },
        "id": "n9tzaLixzztd",
        "outputId": "39a78998-cb09-4902-e6ec-0b8973e188a8"
      },
      "execution_count": null,
      "outputs": [
        {
          "output_type": "execute_result",
          "data": {
            "text/plain": [
              "Drama, Romance            2577\n",
              "Horror                    2074\n",
              "Comedy, Drama, Romance    1958\n",
              "Comedy, Romance           1800\n",
              "Action, Crime, Drama      1517\n",
              "Name: genre, dtype: int64"
            ]
          },
          "metadata": {},
          "execution_count": 31
        }
      ]
    },
    {
      "cell_type": "markdown",
      "source": [
        "Самыми продуктивными режиссерами оказались: William Beaudine, Lew Landers, Richard Thorpe, Michael Curtiz, Sam Newfield."
      ],
      "metadata": {
        "id": "p9NxKn2o3KU_"
      }
    },
    {
      "cell_type": "code",
      "source": [
        "df.director.value_counts().head()"
      ],
      "metadata": {
        "colab": {
          "base_uri": "https://localhost:8080/"
        },
        "id": "Cpi-SeFA0l_S",
        "outputId": "fc6804ab-cf63-47c5-949c-e76816dcad57"
      },
      "execution_count": null,
      "outputs": [
        {
          "output_type": "execute_result",
          "data": {
            "text/plain": [
              "William Beaudine    95\n",
              "Lew Landers         92\n",
              "Richard Thorpe      84\n",
              "Michael Curtiz      69\n",
              "Sam Newfield        63\n",
              "Name: director, dtype: int64"
            ]
          },
          "metadata": {},
          "execution_count": 26
        }
      ]
    },
    {
      "cell_type": "markdown",
      "source": [
        "2. Создайте частотные таблицы по отфильтрованым данным. Прокомментируйте результаты в ячейке типа Markdown."
      ],
      "metadata": {
        "id": "JhVmpVG4Pzrs"
      }
    },
    {
      "cell_type": "markdown",
      "source": [
        "Теперь обратимся к отфильтрованным данным. Среди фильмов рейтинг которых выше среднего больше всего картин в жанре Драма, Романтика и Комедия."
      ],
      "metadata": {
        "id": "mXKl3jnE3rO6"
      }
    },
    {
      "cell_type": "code",
      "source": [
        "df[df['rating']>5.72].groupby(\"genre\")[\"movie_id\"].nunique().sort_values(ascending=False).head()\n"
      ],
      "metadata": {
        "colab": {
          "base_uri": "https://localhost:8080/"
        },
        "id": "z8nDE0PM3xg2",
        "outputId": "179e5625-bab9-410e-df49-46e3e60c9c1e"
      },
      "execution_count": null,
      "outputs": [
        {
          "output_type": "execute_result",
          "data": {
            "text/plain": [
              "genre\n",
              "Drama, Romance            1917\n",
              "Comedy, Drama, Romance    1397\n",
              "Comedy, Romance           1041\n",
              "Action, Crime, Drama       856\n",
              "Crime, Drama               708\n",
              "Name: movie_id, dtype: int64"
            ]
          },
          "metadata": {},
          "execution_count": 43
        }
      ]
    },
    {
      "cell_type": "markdown",
      "source": [
        "Если же брать фильмы с рейтингом ниже среднего, то среди них больше всего Хорроров и Триллеров.  "
      ],
      "metadata": {
        "id": "rT_z0Xkf7CUc"
      }
    },
    {
      "cell_type": "code",
      "source": [
        "df[df['rating']<5.72].groupby(\"genre\")[\"movie_id\"].nunique().sort_values(ascending=False).head()"
      ],
      "metadata": {
        "colab": {
          "base_uri": "https://localhost:8080/"
        },
        "id": "adANcnKf6aXW",
        "outputId": "8ce32d14-be36-4792-cdd9-d3dd2758465f"
      },
      "execution_count": null,
      "outputs": [
        {
          "output_type": "execute_result",
          "data": {
            "text/plain": [
              "genre\n",
              "Horror                  1761\n",
              "Horror, Thriller         912\n",
              "Thriller                 847\n",
              "Comedy, Romance          759\n",
              "Action, Crime, Drama     661\n",
              "Name: movie_id, dtype: int64"
            ]
          },
          "metadata": {},
          "execution_count": 44
        }
      ]
    },
    {
      "cell_type": "markdown",
      "source": [
        "Проанализируем фильмы с продолжительностью больше среднего. Больше всего длинных фильмов жанров Драмы, Романтики и Комедии."
      ],
      "metadata": {
        "id": "b243wvkV8XsK"
      }
    },
    {
      "cell_type": "code",
      "source": [
        "df[df['runtime']>98.1].groupby(\"genre\")[\"movie_id\"].nunique().sort_values(ascending=False).head()"
      ],
      "metadata": {
        "colab": {
          "base_uri": "https://localhost:8080/"
        },
        "id": "Kkl2Ajfc6aA8",
        "outputId": "98de70a2-42fa-412a-9110-d2665efe38f7"
      },
      "execution_count": null,
      "outputs": [
        {
          "output_type": "execute_result",
          "data": {
            "text/plain": [
              "genre\n",
              "Drama, Romance            1370\n",
              "Comedy, Drama, Romance     966\n",
              "Action, Crime, Drama       769\n",
              "Comedy, Romance            641\n",
              "Crime, Drama, Thriller     446\n",
              "Name: movie_id, dtype: int64"
            ]
          },
          "metadata": {},
          "execution_count": 51
        }
      ]
    },
    {
      "cell_type": "markdown",
      "source": [
        "Если же обратиться к фильмам, у которых продолжительность ниже среднего, то больше всего таких фильмов жанра ужасов."
      ],
      "metadata": {
        "id": "MfDmZjYr8s7b"
      }
    },
    {
      "cell_type": "code",
      "source": [
        "df[df['runtime']<98.1].groupby(\"genre\")[\"movie_id\"].nunique().sort_values(ascending=False).head()"
      ],
      "metadata": {
        "colab": {
          "base_uri": "https://localhost:8080/"
        },
        "id": "l4i6m5RM7Bn4",
        "outputId": "85480d72-6911-4cf9-cd1b-a8daf04bc358"
      },
      "execution_count": null,
      "outputs": [
        {
          "output_type": "execute_result",
          "data": {
            "text/plain": [
              "genre\n",
              "Horror                    1818\n",
              "Drama, Romance            1207\n",
              "Comedy, Romance           1159\n",
              "Comedy, Drama, Romance     992\n",
              "Horror, Thriller           891\n",
              "Name: movie_id, dtype: int64"
            ]
          },
          "metadata": {},
          "execution_count": 52
        }
      ]
    },
    {
      "cell_type": "markdown",
      "source": [
        "3. По имеющимся данным создайте свою собственную переменную"
      ],
      "metadata": {
        "id": "YKnp0zpLP3Gd"
      }
    },
    {
      "cell_type": "markdown",
      "source": [
        "Создадим переменную, которая отображает есть ли у фильма возрастное ограничение или нет."
      ],
      "metadata": {
        "id": "2-8vB-8M-Fh1"
      }
    },
    {
      "cell_type": "code",
      "source": [
        "\n",
        "def age(x):\n",
        "  if x == \"PG-13\" or x == \"R\" or x == \"TV-MA\":\n",
        "    return '1'\n",
        "  else:\n",
        "    return '0'\n",
        "\n",
        "df['age_rating']= df['certificate'].apply(age)\n",
        "df['age_rating'] = df['age_rating'].astype(int)\n",
        "df.head()"
      ],
      "metadata": {
        "colab": {
          "base_uri": "https://localhost:8080/",
          "height": 538
        },
        "id": "zd4zmfGs-Etk",
        "outputId": "e25eb293-1a53-4c7e-ee38-1f880e3cf279"
      },
      "execution_count": null,
      "outputs": [
        {
          "output_type": "execute_result",
          "data": {
            "text/plain": [
              "    movie_id                      movie_name  year certificate  runtime  \\\n",
              "0  tt1016150  All Quiet on the Western Front  2022           R    148.0   \n",
              "1  tt2584384                     Jojo Rabbit  2019       PG-13    108.0   \n",
              "2  tt7693316                        Devotion  2022       PG-13    139.0   \n",
              "3  tt9737876   Narvik: Hitler's First Defeat  2022       TV-14    108.0   \n",
              "4  tt0361748            Inglourious Basterds  2009           R    153.0   \n",
              "\n",
              "                   genre  rating  \\\n",
              "0     Action, Drama, War     7.8   \n",
              "1     Comedy, Drama, War     7.9   \n",
              "2     Action, Drama, War     6.6   \n",
              "3    Drama, History, War     6.6   \n",
              "4  Adventure, Drama, War     8.3   \n",
              "\n",
              "                                         description           director  \\\n",
              "0  A young German soldier's terrifying experience...      Edward Berger   \n",
              "1  A young German boy in the Hitler Youth whose h...      Taika Waititi   \n",
              "2  A pair of U.S. Navy fighter pilots risk their ...       J.D. Dillard   \n",
              "3  April 1940. The eyes of the world are on Narvi...   Erik Skjoldbjærg   \n",
              "4  In Nazi-occupied France during World War II, a...  Quentin Tarantino   \n",
              "\n",
              "   age_rating  \n",
              "0           1  \n",
              "1           1  \n",
              "2           1  \n",
              "3           0  \n",
              "4           1  "
            ],
            "text/html": [
              "\n",
              "  <div id=\"df-a007deb9-425d-4f5c-b5d6-c9f6ed0f1d30\" class=\"colab-df-container\">\n",
              "    <div>\n",
              "<style scoped>\n",
              "    .dataframe tbody tr th:only-of-type {\n",
              "        vertical-align: middle;\n",
              "    }\n",
              "\n",
              "    .dataframe tbody tr th {\n",
              "        vertical-align: top;\n",
              "    }\n",
              "\n",
              "    .dataframe thead th {\n",
              "        text-align: right;\n",
              "    }\n",
              "</style>\n",
              "<table border=\"1\" class=\"dataframe\">\n",
              "  <thead>\n",
              "    <tr style=\"text-align: right;\">\n",
              "      <th></th>\n",
              "      <th>movie_id</th>\n",
              "      <th>movie_name</th>\n",
              "      <th>year</th>\n",
              "      <th>certificate</th>\n",
              "      <th>runtime</th>\n",
              "      <th>genre</th>\n",
              "      <th>rating</th>\n",
              "      <th>description</th>\n",
              "      <th>director</th>\n",
              "      <th>age_rating</th>\n",
              "    </tr>\n",
              "  </thead>\n",
              "  <tbody>\n",
              "    <tr>\n",
              "      <th>0</th>\n",
              "      <td>tt1016150</td>\n",
              "      <td>All Quiet on the Western Front</td>\n",
              "      <td>2022</td>\n",
              "      <td>R</td>\n",
              "      <td>148.0</td>\n",
              "      <td>Action, Drama, War</td>\n",
              "      <td>7.8</td>\n",
              "      <td>A young German soldier's terrifying experience...</td>\n",
              "      <td>Edward Berger</td>\n",
              "      <td>1</td>\n",
              "    </tr>\n",
              "    <tr>\n",
              "      <th>1</th>\n",
              "      <td>tt2584384</td>\n",
              "      <td>Jojo Rabbit</td>\n",
              "      <td>2019</td>\n",
              "      <td>PG-13</td>\n",
              "      <td>108.0</td>\n",
              "      <td>Comedy, Drama, War</td>\n",
              "      <td>7.9</td>\n",
              "      <td>A young German boy in the Hitler Youth whose h...</td>\n",
              "      <td>Taika Waititi</td>\n",
              "      <td>1</td>\n",
              "    </tr>\n",
              "    <tr>\n",
              "      <th>2</th>\n",
              "      <td>tt7693316</td>\n",
              "      <td>Devotion</td>\n",
              "      <td>2022</td>\n",
              "      <td>PG-13</td>\n",
              "      <td>139.0</td>\n",
              "      <td>Action, Drama, War</td>\n",
              "      <td>6.6</td>\n",
              "      <td>A pair of U.S. Navy fighter pilots risk their ...</td>\n",
              "      <td>J.D. Dillard</td>\n",
              "      <td>1</td>\n",
              "    </tr>\n",
              "    <tr>\n",
              "      <th>3</th>\n",
              "      <td>tt9737876</td>\n",
              "      <td>Narvik: Hitler's First Defeat</td>\n",
              "      <td>2022</td>\n",
              "      <td>TV-14</td>\n",
              "      <td>108.0</td>\n",
              "      <td>Drama, History, War</td>\n",
              "      <td>6.6</td>\n",
              "      <td>April 1940. The eyes of the world are on Narvi...</td>\n",
              "      <td>Erik Skjoldbjærg</td>\n",
              "      <td>0</td>\n",
              "    </tr>\n",
              "    <tr>\n",
              "      <th>4</th>\n",
              "      <td>tt0361748</td>\n",
              "      <td>Inglourious Basterds</td>\n",
              "      <td>2009</td>\n",
              "      <td>R</td>\n",
              "      <td>153.0</td>\n",
              "      <td>Adventure, Drama, War</td>\n",
              "      <td>8.3</td>\n",
              "      <td>In Nazi-occupied France during World War II, a...</td>\n",
              "      <td>Quentin Tarantino</td>\n",
              "      <td>1</td>\n",
              "    </tr>\n",
              "  </tbody>\n",
              "</table>\n",
              "</div>\n",
              "    <div class=\"colab-df-buttons\">\n",
              "\n",
              "  <div class=\"colab-df-container\">\n",
              "    <button class=\"colab-df-convert\" onclick=\"convertToInteractive('df-a007deb9-425d-4f5c-b5d6-c9f6ed0f1d30')\"\n",
              "            title=\"Convert this dataframe to an interactive table.\"\n",
              "            style=\"display:none;\">\n",
              "\n",
              "  <svg xmlns=\"http://www.w3.org/2000/svg\" height=\"24px\" viewBox=\"0 -960 960 960\">\n",
              "    <path d=\"M120-120v-720h720v720H120Zm60-500h600v-160H180v160Zm220 220h160v-160H400v160Zm0 220h160v-160H400v160ZM180-400h160v-160H180v160Zm440 0h160v-160H620v160ZM180-180h160v-160H180v160Zm440 0h160v-160H620v160Z\"/>\n",
              "  </svg>\n",
              "    </button>\n",
              "\n",
              "  <style>\n",
              "    .colab-df-container {\n",
              "      display:flex;\n",
              "      gap: 12px;\n",
              "    }\n",
              "\n",
              "    .colab-df-convert {\n",
              "      background-color: #E8F0FE;\n",
              "      border: none;\n",
              "      border-radius: 50%;\n",
              "      cursor: pointer;\n",
              "      display: none;\n",
              "      fill: #1967D2;\n",
              "      height: 32px;\n",
              "      padding: 0 0 0 0;\n",
              "      width: 32px;\n",
              "    }\n",
              "\n",
              "    .colab-df-convert:hover {\n",
              "      background-color: #E2EBFA;\n",
              "      box-shadow: 0px 1px 2px rgba(60, 64, 67, 0.3), 0px 1px 3px 1px rgba(60, 64, 67, 0.15);\n",
              "      fill: #174EA6;\n",
              "    }\n",
              "\n",
              "    .colab-df-buttons div {\n",
              "      margin-bottom: 4px;\n",
              "    }\n",
              "\n",
              "    [theme=dark] .colab-df-convert {\n",
              "      background-color: #3B4455;\n",
              "      fill: #D2E3FC;\n",
              "    }\n",
              "\n",
              "    [theme=dark] .colab-df-convert:hover {\n",
              "      background-color: #434B5C;\n",
              "      box-shadow: 0px 1px 3px 1px rgba(0, 0, 0, 0.15);\n",
              "      filter: drop-shadow(0px 1px 2px rgba(0, 0, 0, 0.3));\n",
              "      fill: #FFFFFF;\n",
              "    }\n",
              "  </style>\n",
              "\n",
              "    <script>\n",
              "      const buttonEl =\n",
              "        document.querySelector('#df-a007deb9-425d-4f5c-b5d6-c9f6ed0f1d30 button.colab-df-convert');\n",
              "      buttonEl.style.display =\n",
              "        google.colab.kernel.accessAllowed ? 'block' : 'none';\n",
              "\n",
              "      async function convertToInteractive(key) {\n",
              "        const element = document.querySelector('#df-a007deb9-425d-4f5c-b5d6-c9f6ed0f1d30');\n",
              "        const dataTable =\n",
              "          await google.colab.kernel.invokeFunction('convertToInteractive',\n",
              "                                                    [key], {});\n",
              "        if (!dataTable) return;\n",
              "\n",
              "        const docLinkHtml = 'Like what you see? Visit the ' +\n",
              "          '<a target=\"_blank\" href=https://colab.research.google.com/notebooks/data_table.ipynb>data table notebook</a>'\n",
              "          + ' to learn more about interactive tables.';\n",
              "        element.innerHTML = '';\n",
              "        dataTable['output_type'] = 'display_data';\n",
              "        await google.colab.output.renderOutput(dataTable, element);\n",
              "        const docLink = document.createElement('div');\n",
              "        docLink.innerHTML = docLinkHtml;\n",
              "        element.appendChild(docLink);\n",
              "      }\n",
              "    </script>\n",
              "  </div>\n",
              "\n",
              "\n",
              "<div id=\"df-402ecd0c-5ccf-45bd-b8b5-34a38f973ba4\">\n",
              "  <button class=\"colab-df-quickchart\" onclick=\"quickchart('df-402ecd0c-5ccf-45bd-b8b5-34a38f973ba4')\"\n",
              "            title=\"Suggest charts\"\n",
              "            style=\"display:none;\">\n",
              "\n",
              "<svg xmlns=\"http://www.w3.org/2000/svg\" height=\"24px\"viewBox=\"0 0 24 24\"\n",
              "     width=\"24px\">\n",
              "    <g>\n",
              "        <path d=\"M19 3H5c-1.1 0-2 .9-2 2v14c0 1.1.9 2 2 2h14c1.1 0 2-.9 2-2V5c0-1.1-.9-2-2-2zM9 17H7v-7h2v7zm4 0h-2V7h2v10zm4 0h-2v-4h2v4z\"/>\n",
              "    </g>\n",
              "</svg>\n",
              "  </button>\n",
              "\n",
              "<style>\n",
              "  .colab-df-quickchart {\n",
              "      --bg-color: #E8F0FE;\n",
              "      --fill-color: #1967D2;\n",
              "      --hover-bg-color: #E2EBFA;\n",
              "      --hover-fill-color: #174EA6;\n",
              "      --disabled-fill-color: #AAA;\n",
              "      --disabled-bg-color: #DDD;\n",
              "  }\n",
              "\n",
              "  [theme=dark] .colab-df-quickchart {\n",
              "      --bg-color: #3B4455;\n",
              "      --fill-color: #D2E3FC;\n",
              "      --hover-bg-color: #434B5C;\n",
              "      --hover-fill-color: #FFFFFF;\n",
              "      --disabled-bg-color: #3B4455;\n",
              "      --disabled-fill-color: #666;\n",
              "  }\n",
              "\n",
              "  .colab-df-quickchart {\n",
              "    background-color: var(--bg-color);\n",
              "    border: none;\n",
              "    border-radius: 50%;\n",
              "    cursor: pointer;\n",
              "    display: none;\n",
              "    fill: var(--fill-color);\n",
              "    height: 32px;\n",
              "    padding: 0;\n",
              "    width: 32px;\n",
              "  }\n",
              "\n",
              "  .colab-df-quickchart:hover {\n",
              "    background-color: var(--hover-bg-color);\n",
              "    box-shadow: 0 1px 2px rgba(60, 64, 67, 0.3), 0 1px 3px 1px rgba(60, 64, 67, 0.15);\n",
              "    fill: var(--button-hover-fill-color);\n",
              "  }\n",
              "\n",
              "  .colab-df-quickchart-complete:disabled,\n",
              "  .colab-df-quickchart-complete:disabled:hover {\n",
              "    background-color: var(--disabled-bg-color);\n",
              "    fill: var(--disabled-fill-color);\n",
              "    box-shadow: none;\n",
              "  }\n",
              "\n",
              "  .colab-df-spinner {\n",
              "    border: 2px solid var(--fill-color);\n",
              "    border-color: transparent;\n",
              "    border-bottom-color: var(--fill-color);\n",
              "    animation:\n",
              "      spin 1s steps(1) infinite;\n",
              "  }\n",
              "\n",
              "  @keyframes spin {\n",
              "    0% {\n",
              "      border-color: transparent;\n",
              "      border-bottom-color: var(--fill-color);\n",
              "      border-left-color: var(--fill-color);\n",
              "    }\n",
              "    20% {\n",
              "      border-color: transparent;\n",
              "      border-left-color: var(--fill-color);\n",
              "      border-top-color: var(--fill-color);\n",
              "    }\n",
              "    30% {\n",
              "      border-color: transparent;\n",
              "      border-left-color: var(--fill-color);\n",
              "      border-top-color: var(--fill-color);\n",
              "      border-right-color: var(--fill-color);\n",
              "    }\n",
              "    40% {\n",
              "      border-color: transparent;\n",
              "      border-right-color: var(--fill-color);\n",
              "      border-top-color: var(--fill-color);\n",
              "    }\n",
              "    60% {\n",
              "      border-color: transparent;\n",
              "      border-right-color: var(--fill-color);\n",
              "    }\n",
              "    80% {\n",
              "      border-color: transparent;\n",
              "      border-right-color: var(--fill-color);\n",
              "      border-bottom-color: var(--fill-color);\n",
              "    }\n",
              "    90% {\n",
              "      border-color: transparent;\n",
              "      border-bottom-color: var(--fill-color);\n",
              "    }\n",
              "  }\n",
              "</style>\n",
              "\n",
              "  <script>\n",
              "    async function quickchart(key) {\n",
              "      const quickchartButtonEl =\n",
              "        document.querySelector('#' + key + ' button');\n",
              "      quickchartButtonEl.disabled = true;  // To prevent multiple clicks.\n",
              "      quickchartButtonEl.classList.add('colab-df-spinner');\n",
              "      try {\n",
              "        const charts = await google.colab.kernel.invokeFunction(\n",
              "            'suggestCharts', [key], {});\n",
              "      } catch (error) {\n",
              "        console.error('Error during call to suggestCharts:', error);\n",
              "      }\n",
              "      quickchartButtonEl.classList.remove('colab-df-spinner');\n",
              "      quickchartButtonEl.classList.add('colab-df-quickchart-complete');\n",
              "    }\n",
              "    (() => {\n",
              "      let quickchartButtonEl =\n",
              "        document.querySelector('#df-402ecd0c-5ccf-45bd-b8b5-34a38f973ba4 button');\n",
              "      quickchartButtonEl.style.display =\n",
              "        google.colab.kernel.accessAllowed ? 'block' : 'none';\n",
              "    })();\n",
              "  </script>\n",
              "</div>\n",
              "\n",
              "    </div>\n",
              "  </div>\n"
            ],
            "application/vnd.google.colaboratory.intrinsic+json": {
              "type": "dataframe",
              "variable_name": "df",
              "summary": "{\n  \"name\": \"df\",\n  \"rows\": 52313,\n  \"fields\": [\n    {\n      \"column\": \"movie_id\",\n      \"properties\": {\n        \"dtype\": \"string\",\n        \"num_unique_values\": 52313,\n        \"samples\": [\n          \"tt0094593\",\n          \"tt9742392\",\n          \"tt0233418\"\n        ],\n        \"semantic_type\": \"\",\n        \"description\": \"\"\n      }\n    },\n    {\n      \"column\": \"movie_name\",\n      \"properties\": {\n        \"dtype\": \"string\",\n        \"num_unique_values\": 48245,\n        \"samples\": [\n          \"The Devil in the Room\",\n          \"Corri uomo corri\",\n          \"Angel of H.E.A.T.\"\n        ],\n        \"semantic_type\": \"\",\n        \"description\": \"\"\n      }\n    },\n    {\n      \"column\": \"year\",\n      \"properties\": {\n        \"dtype\": \"number\",\n        \"std\": 27,\n        \"min\": 1906,\n        \"max\": 2023,\n        \"num_unique_values\": 115,\n        \"samples\": [\n          1955,\n          1979,\n          1981\n        ],\n        \"semantic_type\": \"\",\n        \"description\": \"\"\n      }\n    },\n    {\n      \"column\": \"certificate\",\n      \"properties\": {\n        \"dtype\": \"category\",\n        \"num_unique_values\": 43,\n        \"samples\": [\n          \"UA\",\n          \"16+\",\n          \"AO\"\n        ],\n        \"semantic_type\": \"\",\n        \"description\": \"\"\n      }\n    },\n    {\n      \"column\": \"runtime\",\n      \"properties\": {\n        \"dtype\": \"number\",\n        \"std\": 24.61872558013658,\n        \"min\": 1.0,\n        \"max\": 776.0,\n        \"num_unique_values\": 258,\n        \"samples\": [\n          179.0,\n          95.0,\n          105.0\n        ],\n        \"semantic_type\": \"\",\n        \"description\": \"\"\n      }\n    },\n    {\n      \"column\": \"genre\",\n      \"properties\": {\n        \"dtype\": \"category\",\n        \"num_unique_values\": 1100,\n        \"samples\": [\n          \"Action, Crime, Family\",\n          \"Drama, Romance, Sci-Fi\",\n          \"Animation, Crime, Music\"\n        ],\n        \"semantic_type\": \"\",\n        \"description\": \"\"\n      }\n    },\n    {\n      \"column\": \"rating\",\n      \"properties\": {\n        \"dtype\": \"number\",\n        \"std\": 1.2681508450709043,\n        \"min\": 1.0,\n        \"max\": 9.8,\n        \"num_unique_values\": 88,\n        \"samples\": [\n          9.2,\n          7.8,\n          5.6\n        ],\n        \"semantic_type\": \"\",\n        \"description\": \"\"\n      }\n    },\n    {\n      \"column\": \"description\",\n      \"properties\": {\n        \"dtype\": \"string\",\n        \"num_unique_values\": 51969,\n        \"samples\": [\n          \"Hari Bhakt Prahlad is devoted to Bhagwan Vishnu, and nothing will distract him from this devotion. When the kingdom's emperor, Lord HiranyaKashyap, finds out that his subject is engrossed ...                See full summary\\u00a0\\u00bb\",\n          \"A village girl falls in love with the newcomer Ranjeet without knowing that he is there to get the smuggled gold that he buried in her front yard many years ago.\",\n          \"Meet Zach. Nice guy. Terrible taste in women. They leave him, but they never forget him. He's heading into the next bad break-up when the newest fad in H2O drinks starts turning his ex ...                See full summary\\u00a0\\u00bb\"\n        ],\n        \"semantic_type\": \"\",\n        \"description\": \"\"\n      }\n    },\n    {\n      \"column\": \"director\",\n      \"properties\": {\n        \"dtype\": \"category\",\n        \"num_unique_values\": 24152,\n        \"samples\": [\n          \"David Gal\\u00e1n Galindo\",\n          \"Kevin James Thornton\",\n          \"Bill Phillips\"\n        ],\n        \"semantic_type\": \"\",\n        \"description\": \"\"\n      }\n    },\n    {\n      \"column\": \"age_rating\",\n      \"properties\": {\n        \"dtype\": \"number\",\n        \"std\": 0,\n        \"min\": 0,\n        \"max\": 1,\n        \"num_unique_values\": 2,\n        \"samples\": [\n          0,\n          1\n        ],\n        \"semantic_type\": \"\",\n        \"description\": \"\"\n      }\n    }\n  ]\n}"
            }
          },
          "metadata": {},
          "execution_count": 3
        }
      ]
    },
    {
      "cell_type": "markdown",
      "source": [
        "Таким образом, количество фильмов с возрастным ограничением - 18678, а без 33635"
      ],
      "metadata": {
        "id": "3WYQD_Os_rkW"
      }
    },
    {
      "cell_type": "code",
      "source": [
        "df['age_rating'].value_counts()"
      ],
      "metadata": {
        "colab": {
          "base_uri": "https://localhost:8080/"
        },
        "id": "hsqs5CLG_m42",
        "outputId": "99b1b4d3-aa93-49a1-c7f0-5ccd27c515a4"
      },
      "execution_count": null,
      "outputs": [
        {
          "output_type": "execute_result",
          "data": {
            "text/plain": [
              "0    33635\n",
              "1    18678\n",
              "Name: age_rating, dtype: int64"
            ]
          },
          "metadata": {},
          "execution_count": 46
        }
      ]
    },
    {
      "cell_type": "markdown",
      "source": [
        "#Этап 3"
      ],
      "metadata": {
        "id": "f_2LEsR_6nqi"
      }
    },
    {
      "cell_type": "markdown",
      "source": [
        "1. Для всех своих переменных (если у вас их очень много, то для пяти) рассчитайте подходящие меры центральной тенденции (мода/медиана/среднее), проинтерпретируйте их. Помните, что для разных шкал можно считать разные МЦТ (например, для возраста вы хоть все три посчитать можете, а для цвета – только моду)."
      ],
      "metadata": {
        "id": "_DY1IKXuP-Lt"
      }
    },
    {
      "cell_type": "code",
      "source": [
        "df.head()"
      ],
      "metadata": {
        "colab": {
          "base_uri": "https://localhost:8080/",
          "height": 293
        },
        "id": "kH83miVb6gYG",
        "outputId": "58f001c6-43d1-45db-c41a-b36dc56a9f8d"
      },
      "execution_count": null,
      "outputs": [
        {
          "output_type": "execute_result",
          "data": {
            "text/plain": [
              "    movie_id                      movie_name  year certificate  runtime  \\\n",
              "0  tt1016150  All Quiet on the Western Front  2022           R    148.0   \n",
              "1  tt2584384                     Jojo Rabbit  2019       PG-13    108.0   \n",
              "2  tt7693316                        Devotion  2022       PG-13    139.0   \n",
              "3  tt9737876   Narvik: Hitler's First Defeat  2022       TV-14    108.0   \n",
              "4  tt0361748            Inglourious Basterds  2009           R    153.0   \n",
              "\n",
              "                   genre  rating  \\\n",
              "0     Action, Drama, War     7.8   \n",
              "1     Comedy, Drama, War     7.9   \n",
              "2     Action, Drama, War     6.6   \n",
              "3    Drama, History, War     6.6   \n",
              "4  Adventure, Drama, War     8.3   \n",
              "\n",
              "                                         description           director  \\\n",
              "0  A young German soldier's terrifying experience...      Edward Berger   \n",
              "1  A young German boy in the Hitler Youth whose h...      Taika Waititi   \n",
              "2  A pair of U.S. Navy fighter pilots risk their ...       J.D. Dillard   \n",
              "3  April 1940. The eyes of the world are on Narvi...   Erik Skjoldbjærg   \n",
              "4  In Nazi-occupied France during World War II, a...  Quentin Tarantino   \n",
              "\n",
              "  age_rating  \n",
              "0        Yes  \n",
              "1        Yes  \n",
              "2        Yes  \n",
              "3         No  \n",
              "4        Yes  "
            ],
            "text/html": [
              "\n",
              "  <div id=\"df-b8549a24-ab14-447c-bfaa-18535a126afb\" class=\"colab-df-container\">\n",
              "    <div>\n",
              "<style scoped>\n",
              "    .dataframe tbody tr th:only-of-type {\n",
              "        vertical-align: middle;\n",
              "    }\n",
              "\n",
              "    .dataframe tbody tr th {\n",
              "        vertical-align: top;\n",
              "    }\n",
              "\n",
              "    .dataframe thead th {\n",
              "        text-align: right;\n",
              "    }\n",
              "</style>\n",
              "<table border=\"1\" class=\"dataframe\">\n",
              "  <thead>\n",
              "    <tr style=\"text-align: right;\">\n",
              "      <th></th>\n",
              "      <th>movie_id</th>\n",
              "      <th>movie_name</th>\n",
              "      <th>year</th>\n",
              "      <th>certificate</th>\n",
              "      <th>runtime</th>\n",
              "      <th>genre</th>\n",
              "      <th>rating</th>\n",
              "      <th>description</th>\n",
              "      <th>director</th>\n",
              "      <th>age_rating</th>\n",
              "    </tr>\n",
              "  </thead>\n",
              "  <tbody>\n",
              "    <tr>\n",
              "      <th>0</th>\n",
              "      <td>tt1016150</td>\n",
              "      <td>All Quiet on the Western Front</td>\n",
              "      <td>2022</td>\n",
              "      <td>R</td>\n",
              "      <td>148.0</td>\n",
              "      <td>Action, Drama, War</td>\n",
              "      <td>7.8</td>\n",
              "      <td>A young German soldier's terrifying experience...</td>\n",
              "      <td>Edward Berger</td>\n",
              "      <td>Yes</td>\n",
              "    </tr>\n",
              "    <tr>\n",
              "      <th>1</th>\n",
              "      <td>tt2584384</td>\n",
              "      <td>Jojo Rabbit</td>\n",
              "      <td>2019</td>\n",
              "      <td>PG-13</td>\n",
              "      <td>108.0</td>\n",
              "      <td>Comedy, Drama, War</td>\n",
              "      <td>7.9</td>\n",
              "      <td>A young German boy in the Hitler Youth whose h...</td>\n",
              "      <td>Taika Waititi</td>\n",
              "      <td>Yes</td>\n",
              "    </tr>\n",
              "    <tr>\n",
              "      <th>2</th>\n",
              "      <td>tt7693316</td>\n",
              "      <td>Devotion</td>\n",
              "      <td>2022</td>\n",
              "      <td>PG-13</td>\n",
              "      <td>139.0</td>\n",
              "      <td>Action, Drama, War</td>\n",
              "      <td>6.6</td>\n",
              "      <td>A pair of U.S. Navy fighter pilots risk their ...</td>\n",
              "      <td>J.D. Dillard</td>\n",
              "      <td>Yes</td>\n",
              "    </tr>\n",
              "    <tr>\n",
              "      <th>3</th>\n",
              "      <td>tt9737876</td>\n",
              "      <td>Narvik: Hitler's First Defeat</td>\n",
              "      <td>2022</td>\n",
              "      <td>TV-14</td>\n",
              "      <td>108.0</td>\n",
              "      <td>Drama, History, War</td>\n",
              "      <td>6.6</td>\n",
              "      <td>April 1940. The eyes of the world are on Narvi...</td>\n",
              "      <td>Erik Skjoldbjærg</td>\n",
              "      <td>No</td>\n",
              "    </tr>\n",
              "    <tr>\n",
              "      <th>4</th>\n",
              "      <td>tt0361748</td>\n",
              "      <td>Inglourious Basterds</td>\n",
              "      <td>2009</td>\n",
              "      <td>R</td>\n",
              "      <td>153.0</td>\n",
              "      <td>Adventure, Drama, War</td>\n",
              "      <td>8.3</td>\n",
              "      <td>In Nazi-occupied France during World War II, a...</td>\n",
              "      <td>Quentin Tarantino</td>\n",
              "      <td>Yes</td>\n",
              "    </tr>\n",
              "  </tbody>\n",
              "</table>\n",
              "</div>\n",
              "    <div class=\"colab-df-buttons\">\n",
              "\n",
              "  <div class=\"colab-df-container\">\n",
              "    <button class=\"colab-df-convert\" onclick=\"convertToInteractive('df-b8549a24-ab14-447c-bfaa-18535a126afb')\"\n",
              "            title=\"Convert this dataframe to an interactive table.\"\n",
              "            style=\"display:none;\">\n",
              "\n",
              "  <svg xmlns=\"http://www.w3.org/2000/svg\" height=\"24px\" viewBox=\"0 -960 960 960\">\n",
              "    <path d=\"M120-120v-720h720v720H120Zm60-500h600v-160H180v160Zm220 220h160v-160H400v160Zm0 220h160v-160H400v160ZM180-400h160v-160H180v160Zm440 0h160v-160H620v160ZM180-180h160v-160H180v160Zm440 0h160v-160H620v160Z\"/>\n",
              "  </svg>\n",
              "    </button>\n",
              "\n",
              "  <style>\n",
              "    .colab-df-container {\n",
              "      display:flex;\n",
              "      gap: 12px;\n",
              "    }\n",
              "\n",
              "    .colab-df-convert {\n",
              "      background-color: #E8F0FE;\n",
              "      border: none;\n",
              "      border-radius: 50%;\n",
              "      cursor: pointer;\n",
              "      display: none;\n",
              "      fill: #1967D2;\n",
              "      height: 32px;\n",
              "      padding: 0 0 0 0;\n",
              "      width: 32px;\n",
              "    }\n",
              "\n",
              "    .colab-df-convert:hover {\n",
              "      background-color: #E2EBFA;\n",
              "      box-shadow: 0px 1px 2px rgba(60, 64, 67, 0.3), 0px 1px 3px 1px rgba(60, 64, 67, 0.15);\n",
              "      fill: #174EA6;\n",
              "    }\n",
              "\n",
              "    .colab-df-buttons div {\n",
              "      margin-bottom: 4px;\n",
              "    }\n",
              "\n",
              "    [theme=dark] .colab-df-convert {\n",
              "      background-color: #3B4455;\n",
              "      fill: #D2E3FC;\n",
              "    }\n",
              "\n",
              "    [theme=dark] .colab-df-convert:hover {\n",
              "      background-color: #434B5C;\n",
              "      box-shadow: 0px 1px 3px 1px rgba(0, 0, 0, 0.15);\n",
              "      filter: drop-shadow(0px 1px 2px rgba(0, 0, 0, 0.3));\n",
              "      fill: #FFFFFF;\n",
              "    }\n",
              "  </style>\n",
              "\n",
              "    <script>\n",
              "      const buttonEl =\n",
              "        document.querySelector('#df-b8549a24-ab14-447c-bfaa-18535a126afb button.colab-df-convert');\n",
              "      buttonEl.style.display =\n",
              "        google.colab.kernel.accessAllowed ? 'block' : 'none';\n",
              "\n",
              "      async function convertToInteractive(key) {\n",
              "        const element = document.querySelector('#df-b8549a24-ab14-447c-bfaa-18535a126afb');\n",
              "        const dataTable =\n",
              "          await google.colab.kernel.invokeFunction('convertToInteractive',\n",
              "                                                    [key], {});\n",
              "        if (!dataTable) return;\n",
              "\n",
              "        const docLinkHtml = 'Like what you see? Visit the ' +\n",
              "          '<a target=\"_blank\" href=https://colab.research.google.com/notebooks/data_table.ipynb>data table notebook</a>'\n",
              "          + ' to learn more about interactive tables.';\n",
              "        element.innerHTML = '';\n",
              "        dataTable['output_type'] = 'display_data';\n",
              "        await google.colab.output.renderOutput(dataTable, element);\n",
              "        const docLink = document.createElement('div');\n",
              "        docLink.innerHTML = docLinkHtml;\n",
              "        element.appendChild(docLink);\n",
              "      }\n",
              "    </script>\n",
              "  </div>\n",
              "\n",
              "\n",
              "<div id=\"df-1d9a0ab2-ce36-403e-966b-f556c216cad9\">\n",
              "  <button class=\"colab-df-quickchart\" onclick=\"quickchart('df-1d9a0ab2-ce36-403e-966b-f556c216cad9')\"\n",
              "            title=\"Suggest charts\"\n",
              "            style=\"display:none;\">\n",
              "\n",
              "<svg xmlns=\"http://www.w3.org/2000/svg\" height=\"24px\"viewBox=\"0 0 24 24\"\n",
              "     width=\"24px\">\n",
              "    <g>\n",
              "        <path d=\"M19 3H5c-1.1 0-2 .9-2 2v14c0 1.1.9 2 2 2h14c1.1 0 2-.9 2-2V5c0-1.1-.9-2-2-2zM9 17H7v-7h2v7zm4 0h-2V7h2v10zm4 0h-2v-4h2v4z\"/>\n",
              "    </g>\n",
              "</svg>\n",
              "  </button>\n",
              "\n",
              "<style>\n",
              "  .colab-df-quickchart {\n",
              "      --bg-color: #E8F0FE;\n",
              "      --fill-color: #1967D2;\n",
              "      --hover-bg-color: #E2EBFA;\n",
              "      --hover-fill-color: #174EA6;\n",
              "      --disabled-fill-color: #AAA;\n",
              "      --disabled-bg-color: #DDD;\n",
              "  }\n",
              "\n",
              "  [theme=dark] .colab-df-quickchart {\n",
              "      --bg-color: #3B4455;\n",
              "      --fill-color: #D2E3FC;\n",
              "      --hover-bg-color: #434B5C;\n",
              "      --hover-fill-color: #FFFFFF;\n",
              "      --disabled-bg-color: #3B4455;\n",
              "      --disabled-fill-color: #666;\n",
              "  }\n",
              "\n",
              "  .colab-df-quickchart {\n",
              "    background-color: var(--bg-color);\n",
              "    border: none;\n",
              "    border-radius: 50%;\n",
              "    cursor: pointer;\n",
              "    display: none;\n",
              "    fill: var(--fill-color);\n",
              "    height: 32px;\n",
              "    padding: 0;\n",
              "    width: 32px;\n",
              "  }\n",
              "\n",
              "  .colab-df-quickchart:hover {\n",
              "    background-color: var(--hover-bg-color);\n",
              "    box-shadow: 0 1px 2px rgba(60, 64, 67, 0.3), 0 1px 3px 1px rgba(60, 64, 67, 0.15);\n",
              "    fill: var(--button-hover-fill-color);\n",
              "  }\n",
              "\n",
              "  .colab-df-quickchart-complete:disabled,\n",
              "  .colab-df-quickchart-complete:disabled:hover {\n",
              "    background-color: var(--disabled-bg-color);\n",
              "    fill: var(--disabled-fill-color);\n",
              "    box-shadow: none;\n",
              "  }\n",
              "\n",
              "  .colab-df-spinner {\n",
              "    border: 2px solid var(--fill-color);\n",
              "    border-color: transparent;\n",
              "    border-bottom-color: var(--fill-color);\n",
              "    animation:\n",
              "      spin 1s steps(1) infinite;\n",
              "  }\n",
              "\n",
              "  @keyframes spin {\n",
              "    0% {\n",
              "      border-color: transparent;\n",
              "      border-bottom-color: var(--fill-color);\n",
              "      border-left-color: var(--fill-color);\n",
              "    }\n",
              "    20% {\n",
              "      border-color: transparent;\n",
              "      border-left-color: var(--fill-color);\n",
              "      border-top-color: var(--fill-color);\n",
              "    }\n",
              "    30% {\n",
              "      border-color: transparent;\n",
              "      border-left-color: var(--fill-color);\n",
              "      border-top-color: var(--fill-color);\n",
              "      border-right-color: var(--fill-color);\n",
              "    }\n",
              "    40% {\n",
              "      border-color: transparent;\n",
              "      border-right-color: var(--fill-color);\n",
              "      border-top-color: var(--fill-color);\n",
              "    }\n",
              "    60% {\n",
              "      border-color: transparent;\n",
              "      border-right-color: var(--fill-color);\n",
              "    }\n",
              "    80% {\n",
              "      border-color: transparent;\n",
              "      border-right-color: var(--fill-color);\n",
              "      border-bottom-color: var(--fill-color);\n",
              "    }\n",
              "    90% {\n",
              "      border-color: transparent;\n",
              "      border-bottom-color: var(--fill-color);\n",
              "    }\n",
              "  }\n",
              "</style>\n",
              "\n",
              "  <script>\n",
              "    async function quickchart(key) {\n",
              "      const quickchartButtonEl =\n",
              "        document.querySelector('#' + key + ' button');\n",
              "      quickchartButtonEl.disabled = true;  // To prevent multiple clicks.\n",
              "      quickchartButtonEl.classList.add('colab-df-spinner');\n",
              "      try {\n",
              "        const charts = await google.colab.kernel.invokeFunction(\n",
              "            'suggestCharts', [key], {});\n",
              "      } catch (error) {\n",
              "        console.error('Error during call to suggestCharts:', error);\n",
              "      }\n",
              "      quickchartButtonEl.classList.remove('colab-df-spinner');\n",
              "      quickchartButtonEl.classList.add('colab-df-quickchart-complete');\n",
              "    }\n",
              "    (() => {\n",
              "      let quickchartButtonEl =\n",
              "        document.querySelector('#df-1d9a0ab2-ce36-403e-966b-f556c216cad9 button');\n",
              "      quickchartButtonEl.style.display =\n",
              "        google.colab.kernel.accessAllowed ? 'block' : 'none';\n",
              "    })();\n",
              "  </script>\n",
              "</div>\n",
              "\n",
              "    </div>\n",
              "  </div>\n"
            ],
            "application/vnd.google.colaboratory.intrinsic+json": {
              "type": "dataframe",
              "variable_name": "df",
              "summary": "{\n  \"name\": \"df\",\n  \"rows\": 52313,\n  \"fields\": [\n    {\n      \"column\": \"movie_id\",\n      \"properties\": {\n        \"dtype\": \"string\",\n        \"samples\": [\n          \"tt0094593\",\n          \"tt9742392\",\n          \"tt0233418\"\n        ],\n        \"num_unique_values\": 52313,\n        \"semantic_type\": \"\",\n        \"description\": \"\"\n      }\n    },\n    {\n      \"column\": \"movie_name\",\n      \"properties\": {\n        \"dtype\": \"string\",\n        \"samples\": [\n          \"The Devil in the Room\",\n          \"Corri uomo corri\",\n          \"Angel of H.E.A.T.\"\n        ],\n        \"num_unique_values\": 48245,\n        \"semantic_type\": \"\",\n        \"description\": \"\"\n      }\n    },\n    {\n      \"column\": \"year\",\n      \"properties\": {\n        \"dtype\": \"number\",\n        \"std\": 27,\n        \"min\": 1906,\n        \"max\": 2023,\n        \"samples\": [\n          1955,\n          1979,\n          1981\n        ],\n        \"num_unique_values\": 115,\n        \"semantic_type\": \"\",\n        \"description\": \"\"\n      }\n    },\n    {\n      \"column\": \"certificate\",\n      \"properties\": {\n        \"dtype\": \"category\",\n        \"samples\": [\n          \"UA\",\n          \"16+\",\n          \"AO\"\n        ],\n        \"num_unique_values\": 43,\n        \"semantic_type\": \"\",\n        \"description\": \"\"\n      }\n    },\n    {\n      \"column\": \"runtime\",\n      \"properties\": {\n        \"dtype\": \"number\",\n        \"std\": 24.61872558013658,\n        \"min\": 1.0,\n        \"max\": 776.0,\n        \"samples\": [\n          179.0,\n          95.0,\n          105.0\n        ],\n        \"num_unique_values\": 258,\n        \"semantic_type\": \"\",\n        \"description\": \"\"\n      }\n    },\n    {\n      \"column\": \"genre\",\n      \"properties\": {\n        \"dtype\": \"category\",\n        \"samples\": [\n          \"Action, Crime, Family\",\n          \"Drama, Romance, Sci-Fi\",\n          \"Animation, Crime, Music\"\n        ],\n        \"num_unique_values\": 1100,\n        \"semantic_type\": \"\",\n        \"description\": \"\"\n      }\n    },\n    {\n      \"column\": \"rating\",\n      \"properties\": {\n        \"dtype\": \"number\",\n        \"std\": 1.2681508450709043,\n        \"min\": 1.0,\n        \"max\": 9.8,\n        \"samples\": [\n          9.2,\n          7.8,\n          5.6\n        ],\n        \"num_unique_values\": 88,\n        \"semantic_type\": \"\",\n        \"description\": \"\"\n      }\n    },\n    {\n      \"column\": \"description\",\n      \"properties\": {\n        \"dtype\": \"string\",\n        \"samples\": [\n          \"Hari Bhakt Prahlad is devoted to Bhagwan Vishnu, and nothing will distract him from this devotion. When the kingdom's emperor, Lord HiranyaKashyap, finds out that his subject is engrossed ...                See full summary\\u00a0\\u00bb\",\n          \"A village girl falls in love with the newcomer Ranjeet without knowing that he is there to get the smuggled gold that he buried in her front yard many years ago.\",\n          \"Meet Zach. Nice guy. Terrible taste in women. They leave him, but they never forget him. He's heading into the next bad break-up when the newest fad in H2O drinks starts turning his ex ...                See full summary\\u00a0\\u00bb\"\n        ],\n        \"num_unique_values\": 51969,\n        \"semantic_type\": \"\",\n        \"description\": \"\"\n      }\n    },\n    {\n      \"column\": \"director\",\n      \"properties\": {\n        \"dtype\": \"category\",\n        \"samples\": [\n          \"David Gal\\u00e1n Galindo\",\n          \"Kevin James Thornton\",\n          \"Bill Phillips\"\n        ],\n        \"num_unique_values\": 24152,\n        \"semantic_type\": \"\",\n        \"description\": \"\"\n      }\n    },\n    {\n      \"column\": \"age_rating\",\n      \"properties\": {\n        \"dtype\": \"category\",\n        \"samples\": [\n          \"No\",\n          \"Yes\"\n        ],\n        \"num_unique_values\": 2,\n        \"semantic_type\": \"\",\n        \"description\": \"\"\n      }\n    }\n  ]\n}"
            }
          },
          "metadata": {},
          "execution_count": 5
        }
      ]
    },
    {
      "cell_type": "code",
      "source": [
        "df.year.value_counts()"
      ],
      "metadata": {
        "colab": {
          "base_uri": "https://localhost:8080/"
        },
        "id": "NRU1FY4b84wH",
        "outputId": "8e0b93d6-4d74-494a-e46b-afe9659a2b8c"
      },
      "execution_count": null,
      "outputs": [
        {
          "output_type": "execute_result",
          "data": {
            "text/plain": [
              "2014    1772\n",
              "2015    1666\n",
              "2013    1645\n",
              "2016    1505\n",
              "2012    1505\n",
              "        ... \n",
              "1913       6\n",
              "1912       3\n",
              "1906       1\n",
              "1907       1\n",
              "1909       1\n",
              "Name: year, Length: 115, dtype: int64"
            ]
          },
          "metadata": {},
          "execution_count": 3
        }
      ]
    },
    {
      "cell_type": "markdown",
      "source": [
        "В датасете больше всего фильмов 2014 г."
      ],
      "metadata": {
        "id": "VvnIL_3AAvxx"
      }
    },
    {
      "cell_type": "code",
      "source": [
        "df.year.mode()"
      ],
      "metadata": {
        "colab": {
          "base_uri": "https://localhost:8080/"
        },
        "id": "rB7P_-I-9d-3",
        "outputId": "0469ff3b-b7c3-4df2-f8dd-233359f19283"
      },
      "execution_count": null,
      "outputs": [
        {
          "output_type": "execute_result",
          "data": {
            "text/plain": [
              "0    2014\n",
              "Name: year, dtype: int64"
            ]
          },
          "metadata": {},
          "execution_count": 7
        }
      ]
    },
    {
      "cell_type": "markdown",
      "source": [
        "Первая половина фильмов в датасете была снята до 2000, а вторая после.\n",
        "\n",
        "(поскольку количество строк нечетное, можем и посчитать медиану для порядковой переменной)"
      ],
      "metadata": {
        "id": "hYZJaFFqA24d"
      }
    },
    {
      "cell_type": "code",
      "source": [
        "df.year.median()"
      ],
      "metadata": {
        "colab": {
          "base_uri": "https://localhost:8080/"
        },
        "id": "PNU0CsCX9lwK",
        "outputId": "60e248ec-314c-4659-ad83-5b681df785e6"
      },
      "execution_count": null,
      "outputs": [
        {
          "output_type": "execute_result",
          "data": {
            "text/plain": [
              "2000.0"
            ]
          },
          "metadata": {},
          "execution_count": 13
        }
      ]
    },
    {
      "cell_type": "markdown",
      "source": [
        "Первая половина фильмов в датасете длится меньше 94 минут, а вторая больше.\n",
        "\n",
        "(несимметричное распределение непрерывной переменной, поэтому можем посчитать только медиану)"
      ],
      "metadata": {
        "id": "e80ZwKVXBBNp"
      }
    },
    {
      "cell_type": "code",
      "source": [
        "df.runtime.median()\n"
      ],
      "metadata": {
        "colab": {
          "base_uri": "https://localhost:8080/"
        },
        "id": "0DM8wwLb9rd0",
        "outputId": "22fe568f-41c1-4b90-ed5e-4a84f47ac4cc"
      },
      "execution_count": null,
      "outputs": [
        {
          "output_type": "execute_result",
          "data": {
            "text/plain": [
              "94.0"
            ]
          },
          "metadata": {},
          "execution_count": 27
        }
      ]
    },
    {
      "cell_type": "code",
      "source": [
        "df.runtime.plot(kind='hist', color='blue')\n",
        "plt.xlabel('Продолжительность фильма')\n",
        "plt.ylabel('Количество фильмов')\n",
        "plt.title('Распределение фильмов по хронометражу')"
      ],
      "metadata": {
        "colab": {
          "base_uri": "https://localhost:8080/",
          "height": 489
        },
        "id": "mSiC0yJJ90ui",
        "outputId": "0496f7fc-c769-4efb-af97-a98bf2a28f11"
      },
      "execution_count": null,
      "outputs": [
        {
          "output_type": "execute_result",
          "data": {
            "text/plain": [
              "Text(0.5, 1.0, 'Распределение фильмов по хронометражу')"
            ]
          },
          "metadata": {},
          "execution_count": 37
        },
        {
          "output_type": "display_data",
          "data": {
            "text/plain": [
              "<Figure size 640x480 with 1 Axes>"
            ],
            "image/png": "[encoded data removed]"
          },
          "metadata": {}
        }
      ]
    },
    {
      "cell_type": "markdown",
      "source": [
        "Средний рейтинг фильмов равен 5,73"
      ],
      "metadata": {
        "id": "UyLGk42MNL03"
      }
    },
    {
      "cell_type": "code",
      "source": [
        "df.rating.mean()"
      ],
      "metadata": {
        "colab": {
          "base_uri": "https://localhost:8080/"
        },
        "id": "rpe2Jryo92Fv",
        "outputId": "ae4ee46f-1470-4499-b292-bd86c9e2512f"
      },
      "execution_count": null,
      "outputs": [
        {
          "output_type": "execute_result",
          "data": {
            "text/plain": [
              "5.7263739414677035"
            ]
          },
          "metadata": {},
          "execution_count": 22
        }
      ]
    },
    {
      "cell_type": "markdown",
      "source": [
        "Чаще всего фильмам выставляли оценку в 6,2 балла"
      ],
      "metadata": {
        "id": "DTQ9JeXHNO2N"
      }
    },
    {
      "cell_type": "code",
      "source": [
        "df.rating.mode()"
      ],
      "metadata": {
        "colab": {
          "base_uri": "https://localhost:8080/"
        },
        "id": "QwpyR4gI94ms",
        "outputId": "be007184-2954-47f2-f053-8218d7624822"
      },
      "execution_count": null,
      "outputs": [
        {
          "output_type": "execute_result",
          "data": {
            "text/plain": [
              "0    6.2\n",
              "Name: rating, dtype: float64"
            ]
          },
          "metadata": {},
          "execution_count": 23
        }
      ]
    },
    {
      "cell_type": "markdown",
      "source": [
        "Первая половина фильмов в датасете с рейтингом меньше 5,9, а вторая больше"
      ],
      "metadata": {
        "id": "bT8fuQitNRBp"
      }
    },
    {
      "cell_type": "code",
      "source": [
        "df.rating.median()"
      ],
      "metadata": {
        "colab": {
          "base_uri": "https://localhost:8080/"
        },
        "id": "tkcJON8o977N",
        "outputId": "aac88eca-a8ed-4dfb-adcd-34f7b7e6ef1c"
      },
      "execution_count": null,
      "outputs": [
        {
          "output_type": "execute_result",
          "data": {
            "text/plain": [
              "5.9"
            ]
          },
          "metadata": {},
          "execution_count": 24
        }
      ]
    },
    {
      "cell_type": "markdown",
      "source": [
        "Поскольку распределение близкое к нормальному, можем рассчитать все МЦТ"
      ],
      "metadata": {
        "id": "_XlXP0c-NTdU"
      }
    },
    {
      "cell_type": "code",
      "source": [
        "df.rating.plot(kind='hist', color='purple')\n",
        "plt.xlabel('Рейтинг фильма')\n",
        "plt.ylabel('Количество фильмов')\n",
        "plt.title('Распределение фильмов по рейтингу')"
      ],
      "metadata": {
        "colab": {
          "base_uri": "https://localhost:8080/",
          "height": 489
        },
        "id": "BgsHIY1Q9_n4",
        "outputId": "866ae435-79d1-4dfd-cf50-bdf0bfcb37e2"
      },
      "execution_count": null,
      "outputs": [
        {
          "output_type": "execute_result",
          "data": {
            "text/plain": [
              "Text(0.5, 1.0, 'Распределение фильмов по рейтингу')"
            ]
          },
          "metadata": {},
          "execution_count": 40
        },
        {
          "output_type": "display_data",
          "data": {
            "text/plain": [
              "<Figure size 640x480 with 1 Axes>"
            ],
            "image/png": "[encoded data removed]"
          },
          "metadata": {}
        }
      ]
    },
    {
      "cell_type": "markdown",
      "source": [
        "Чаще всего встречаются фильмы в жанре Драма и Романтика"
      ],
      "metadata": {
        "id": "0_LPGoNoNWm5"
      }
    },
    {
      "cell_type": "code",
      "source": [
        "df.genre.mode()"
      ],
      "metadata": {
        "colab": {
          "base_uri": "https://localhost:8080/"
        },
        "id": "oWwK48HOxnyM",
        "outputId": "5d20a28b-a2ec-4c14-ba37-32357ce84662"
      },
      "execution_count": null,
      "outputs": [
        {
          "output_type": "execute_result",
          "data": {
            "text/plain": [
              "0    Drama, Romance\n",
              "Name: genre, dtype: object"
            ]
          },
          "metadata": {},
          "execution_count": 18
        }
      ]
    },
    {
      "cell_type": "markdown",
      "source": [
        "Чаще всего встречаются фильмы режиссёра William Beaudine"
      ],
      "metadata": {
        "id": "9VvHcIl5NYkN"
      }
    },
    {
      "cell_type": "code",
      "source": [
        "df.director.mode()"
      ],
      "metadata": {
        "colab": {
          "base_uri": "https://localhost:8080/"
        },
        "id": "NcGVGPAYx1_f",
        "outputId": "9fbec064-999a-4175-b76a-4ae4a691a8f9"
      },
      "execution_count": null,
      "outputs": [
        {
          "output_type": "execute_result",
          "data": {
            "text/plain": [
              "0    William Beaudine\n",
              "Name: director, dtype: object"
            ]
          },
          "metadata": {},
          "execution_count": 19
        }
      ]
    },
    {
      "cell_type": "markdown",
      "source": [
        "2. Посмотрите на выбросы хотя бы по двум переменным. Визуализируйте с помощью ящика с усами. Проинтерпретируйте весь график."
      ],
      "metadata": {
        "id": "CrnMPudFQIIe"
      }
    },
    {
      "cell_type": "code",
      "source": [
        "df.boxplot(column='rating', color='blue')\n",
        "plt.title('Выбросы среди фильмов по рейтингу')"
      ],
      "metadata": {
        "colab": {
          "base_uri": "https://localhost:8080/",
          "height": 469
        },
        "id": "txFMdlSm-hI-",
        "outputId": "69f78653-4026-4d43-bc59-31f8dd156092"
      },
      "execution_count": null,
      "outputs": [
        {
          "output_type": "execute_result",
          "data": {
            "text/plain": [
              "Text(0.5, 1.0, 'Выбросы среди фильмов по рейтингу')"
            ]
          },
          "metadata": {},
          "execution_count": 47
        },
        {
          "output_type": "display_data",
          "data": {
            "text/plain": [
              "<Figure size 640x480 with 1 Axes>"
            ],
            "image/png": "[encoded data removed]"
          },
          "metadata": {}
        }
      ]
    },
    {
      "cell_type": "markdown",
      "source": [
        "Медиана (второй квантиль) по рейтингу фильмов равен 5,9. Следовательно первая половина фильмов имеют рейтинг ниже 5,9, а вторая выше.\n",
        "\n",
        "Вместе с тем существует достаточно много выбросов как в положительную, так и отрицательную сторону. К ним относятся фильмы с рейтингом выше ~9 баллов и ниже ~2,2."
      ],
      "metadata": {
        "id": "YnfoJ8jBAfWa"
      }
    },
    {
      "cell_type": "code",
      "source": [
        "df.boxplot(column='runtime', color='green')\n",
        "plt.title('Выбросы среди фильмов по продолжительности')"
      ],
      "metadata": {
        "colab": {
          "base_uri": "https://localhost:8080/",
          "height": 469
        },
        "id": "hb3PPRDo_9Da",
        "outputId": "585af457-8985-4908-fa01-89311f6eaf02"
      },
      "execution_count": null,
      "outputs": [
        {
          "output_type": "execute_result",
          "data": {
            "text/plain": [
              "Text(0.5, 1.0, 'Выбросы среди фильмов по продолжительности')"
            ]
          },
          "metadata": {},
          "execution_count": 39
        },
        {
          "output_type": "display_data",
          "data": {
            "text/plain": [
              "<Figure size 640x480 with 1 Axes>"
            ],
            "image/png": "[encoded data removed]"
          },
          "metadata": {}
        }
      ]
    },
    {
      "cell_type": "markdown",
      "source": [
        "Поскольку распределение по продолжительности фильмов не является нормальным, \"ящик с усами\" имеет нестандартный вид.\n",
        "\n",
        "Большая часть фильмов сосредоточена в диапозоне от 50 до 120 минут с медианой в 100 минут.\n",
        "\n",
        "Больше всего выбросов свыше 150 минут, а крупнейшими из них являются в 800 и 700 минут.\n",
        "\n",
        "Выбросы с продолжительностью менее 50 минут также присутствуют, но их гораздо меньше.\n"
      ],
      "metadata": {
        "id": "FGwETwBQAen3"
      }
    },
    {
      "cell_type": "markdown",
      "source": [
        "3. Хотя бы для одной переменной посчитайте выбросы как с помощью межквартильного размаха, так и с помощью среднеквадратичного отклонения от среднего. Отличаются ли результаты? Проинтерпретируйте их.\n",
        "\n",
        "4. Если выбросы есть, удалите их (если данных много) или замените на среднее/медиану (если данных мало) и посмотрите, как поменялись меры центральной тенденции в рассматриваемой переменной."
      ],
      "metadata": {
        "id": "jdPHPubYQP1b"
      }
    },
    {
      "cell_type": "markdown",
      "source": [
        "Фильмов, рейтинг которых можно считать выбросом, 463, если считать по межквратильному размаху"
      ],
      "metadata": {
        "id": "i8_we3pOOBy-"
      }
    },
    {
      "cell_type": "code",
      "source": [
        "q_d=df.rating.quantile(0.75)-df.rating.quantile(0.25)\n",
        "\n",
        "top=df.rating.quantile(0.75)+1.5*q_d\n",
        "bottom=df.rating.quantile(0.25)-1.5*q_d\n",
        "\n",
        "df[(df['rating']>top)|(df['rating']<bottom)].shape"
      ],
      "metadata": {
        "colab": {
          "base_uri": "https://localhost:8080/"
        },
        "id": "IBFI9NkwL6Ei",
        "outputId": "16dfd2f2-fc6b-4900-c8da-646bb1f03527"
      },
      "execution_count": null,
      "outputs": [
        {
          "output_type": "execute_result",
          "data": {
            "text/plain": [
              "(463, 9)"
            ]
          },
          "metadata": {},
          "execution_count": 41
        }
      ]
    },
    {
      "cell_type": "markdown",
      "source": [
        "Фильмов, рейтинг которых можно считать выбросом, 734, если считать по среднеквадратичному отклонению"
      ],
      "metadata": {
        "id": "AkkYJGy4OH2w"
      }
    },
    {
      "cell_type": "code",
      "source": [
        "top_s=df.rating.mean()+2.5*df.rating.std()\n",
        "bottom_s=df.rating.mean()-2.5*df.rating.std()\n",
        "\n",
        "df[(df['rating']>top_s)|(df['rating']<bottom_s)].shape"
      ],
      "metadata": {
        "colab": {
          "base_uri": "https://localhost:8080/"
        },
        "id": "srO_5qfuL53O",
        "outputId": "11be12b7-1eba-4829-c66b-3c45b0dd8f2e"
      },
      "execution_count": null,
      "outputs": [
        {
          "output_type": "execute_result",
          "data": {
            "text/plain": [
              "(734, 9)"
            ]
          },
          "metadata": {},
          "execution_count": 42
        }
      ]
    },
    {
      "cell_type": "markdown",
      "source": [
        "Фильмов, рейтинг которых можно считать выбросом, 3252, если считать по межквратильному размаху"
      ],
      "metadata": {
        "id": "PFEw96p6OLiP"
      }
    },
    {
      "cell_type": "code",
      "source": [
        "q_d_2=df.runtime.quantile(0.75)-df.runtime.quantile(0.25)\n",
        "\n",
        "top_2=df.runtime.quantile(0.75)+1.5*q_d\n",
        "bottom_2=df.runtime.quantile(0.25)-1.5*q_d\n",
        "\n",
        "df[(df['runtime']>top_2)|(df['runtime']<bottom_2)].shape"
      ],
      "metadata": {
        "colab": {
          "base_uri": "https://localhost:8080/"
        },
        "id": "v7oIVIuGzInc",
        "outputId": "3d23a535-3fff-4408-9114-f8f76217a6c0"
      },
      "execution_count": null,
      "outputs": [
        {
          "output_type": "execute_result",
          "data": {
            "text/plain": [
              "(3252, 9)"
            ]
          },
          "metadata": {},
          "execution_count": 25
        }
      ]
    },
    {
      "cell_type": "markdown",
      "source": [
        "Фильмов, рейтинг которых можно считать выбросом, 1136, если считать по среднеквадратичному отклонению"
      ],
      "metadata": {
        "id": "z2872zdMOOlk"
      }
    },
    {
      "cell_type": "code",
      "source": [
        "top_s_2=df.runtime.mean()+2.5*df.runtime.std()\n",
        "bottom_s_2=df.runtime.mean()-2.5*df.runtime.std()\n",
        "\n",
        "df[(df['runtime']>top_s_2)|(df['runtime']<bottom_s_2)].shape"
      ],
      "metadata": {
        "colab": {
          "base_uri": "https://localhost:8080/"
        },
        "id": "6d9unhVgzK33",
        "outputId": "05b6233e-c6f5-41c7-dc9c-150f95eadb72"
      },
      "execution_count": null,
      "outputs": [
        {
          "output_type": "execute_result",
          "data": {
            "text/plain": [
              "(1136, 9)"
            ]
          },
          "metadata": {},
          "execution_count": 26
        }
      ]
    },
    {
      "cell_type": "markdown",
      "source": [
        "При подсчете выбросов через среднеквадратичное отклонение выбросов больше, нежеле чем при подсчёте через межквартильный размах"
      ],
      "metadata": {
        "id": "JTsgwuIsM3dI"
      }
    },
    {
      "cell_type": "markdown",
      "source": [
        "Средний рейтинг фильмов после удаления выбросов по среднеквадратичному отклонению - 5.72"
      ],
      "metadata": {
        "id": "THrVnZiTOTZr"
      }
    },
    {
      "cell_type": "code",
      "source": [
        "df[(df['rating']<top_s)|(df['rating']<bottom_s)]['rating'].mean()"
      ],
      "metadata": {
        "colab": {
          "base_uri": "https://localhost:8080/"
        },
        "id": "KeN9026uKv81",
        "outputId": "690c0f70-e1ac-473d-ef2c-9c7de3de9b86"
      },
      "execution_count": null,
      "outputs": [
        {
          "output_type": "execute_result",
          "data": {
            "text/plain": [
              "5.722062510766169"
            ]
          },
          "metadata": {},
          "execution_count": 43
        }
      ]
    },
    {
      "cell_type": "markdown",
      "source": [
        "Мода рейтинга фильмов после удаления выбросов по среднеквадратичному отклонению - 6.2"
      ],
      "metadata": {
        "id": "_mlHY4EaOYsa"
      }
    },
    {
      "cell_type": "code",
      "source": [
        "df[(df['rating']<top_s)|(df['rating']>bottom_s)]['rating'].mode()"
      ],
      "metadata": {
        "colab": {
          "base_uri": "https://localhost:8080/"
        },
        "id": "rR1TFM-qLcSj",
        "outputId": "2343d033-8d7e-4dc5-fa53-6542b1077b0f"
      },
      "execution_count": null,
      "outputs": [
        {
          "output_type": "execute_result",
          "data": {
            "text/plain": [
              "0    6.2\n",
              "Name: rating, dtype: float64"
            ]
          },
          "metadata": {},
          "execution_count": 49
        }
      ]
    },
    {
      "cell_type": "markdown",
      "source": [
        "Медиана рейтинга фильмов после удаления выбросов по среднеквадратичному отклонению - 5.9"
      ],
      "metadata": {
        "id": "jypLeImKOfnK"
      }
    },
    {
      "cell_type": "code",
      "source": [
        "df[(df['rating']<top_s)|(df['rating']<bottom_s)]['rating'].median()"
      ],
      "metadata": {
        "colab": {
          "base_uri": "https://localhost:8080/"
        },
        "id": "-H7h3i3mQVAM",
        "outputId": "b13cba2d-3cc7-428c-a26f-d18bd02c5165"
      },
      "execution_count": null,
      "outputs": [
        {
          "output_type": "execute_result",
          "data": {
            "text/plain": [
              "5.9"
            ]
          },
          "metadata": {},
          "execution_count": 50
        }
      ]
    },
    {
      "cell_type": "markdown",
      "source": [
        "Средний рейтинг фильмов после удаления выбросов по межквартильному размаху - 5.72"
      ],
      "metadata": {
        "id": "ExYzpGGbOieB"
      }
    },
    {
      "cell_type": "code",
      "source": [
        "df[(df['rating']<top)|(df['rating']<bottom)]['rating'].mean()"
      ],
      "metadata": {
        "colab": {
          "base_uri": "https://localhost:8080/"
        },
        "id": "pjiGvXzw0eZ-",
        "outputId": "f00c4bb0-d2a7-48c2-b557-2bb4e610d2f7"
      },
      "execution_count": null,
      "outputs": [
        {
          "output_type": "execute_result",
          "data": {
            "text/plain": [
              "5.7263739414677035"
            ]
          },
          "metadata": {},
          "execution_count": 27
        }
      ]
    },
    {
      "cell_type": "markdown",
      "source": [
        "Мода рейтинга фильмов после удаления выбросов по межквартильному размаху - 6.2"
      ],
      "metadata": {
        "id": "t0yg2o1rOrKH"
      }
    },
    {
      "cell_type": "code",
      "source": [
        "df[(df['rating']<top)|(df['rating']>bottom)]['rating'].mode()"
      ],
      "metadata": {
        "colab": {
          "base_uri": "https://localhost:8080/"
        },
        "id": "TxXyQUhe0eU-",
        "outputId": "ade65b72-db8e-43f7-97fd-afca196af9a7"
      },
      "execution_count": null,
      "outputs": [
        {
          "output_type": "execute_result",
          "data": {
            "text/plain": [
              "0    6.2\n",
              "Name: rating, dtype: float64"
            ]
          },
          "metadata": {},
          "execution_count": 28
        }
      ]
    },
    {
      "cell_type": "markdown",
      "source": [
        "Медиана рейтинга фильмов после удаления выбросов по межквартильному размаху - 5.9"
      ],
      "metadata": {
        "id": "nAYxHzJCOue6"
      }
    },
    {
      "cell_type": "code",
      "source": [
        "df[(df['rating']<top)|(df['rating']<bottom)]['rating'].median()"
      ],
      "metadata": {
        "colab": {
          "base_uri": "https://localhost:8080/"
        },
        "id": "y7yOx8ub0d8n",
        "outputId": "b3c59758-2bf9-4881-c1c0-692d8004e54d"
      },
      "execution_count": null,
      "outputs": [
        {
          "output_type": "execute_result",
          "data": {
            "text/plain": [
              "5.9"
            ]
          },
          "metadata": {},
          "execution_count": 29
        }
      ]
    },
    {
      "cell_type": "markdown",
      "source": [
        "Средний рейтинг фильмов до удаления выбросов - 5.72"
      ],
      "metadata": {
        "id": "lkBu1IFgOyhj"
      }
    },
    {
      "cell_type": "code",
      "source": [
        "df.rating.mean()"
      ],
      "metadata": {
        "colab": {
          "base_uri": "https://localhost:8080/"
        },
        "id": "dvIEl5sACTGR",
        "outputId": "824379bd-a091-46d6-827e-a8de7693ed81"
      },
      "execution_count": null,
      "outputs": [
        {
          "output_type": "execute_result",
          "data": {
            "text/plain": [
              "5.7263739414677035"
            ]
          },
          "metadata": {},
          "execution_count": 51
        }
      ]
    },
    {
      "cell_type": "markdown",
      "source": [
        "Мода рейтинга фильмов до удаления выбросов - 6.2"
      ],
      "metadata": {
        "id": "0zjoVTcFO6y8"
      }
    },
    {
      "cell_type": "code",
      "source": [
        "df.rating.mode()"
      ],
      "metadata": {
        "colab": {
          "base_uri": "https://localhost:8080/"
        },
        "id": "hpCObOnsLn-K",
        "outputId": "2217837b-23bb-49a1-bcb7-24826595d574"
      },
      "execution_count": null,
      "outputs": [
        {
          "output_type": "execute_result",
          "data": {
            "text/plain": [
              "0    6.2\n",
              "Name: rating, dtype: float64"
            ]
          },
          "metadata": {},
          "execution_count": 52
        }
      ]
    },
    {
      "cell_type": "markdown",
      "source": [
        "Медиана рейтинга фильмов до удаления выбросов - 5.9"
      ],
      "metadata": {
        "id": "L8c1P7FvO9xw"
      }
    },
    {
      "cell_type": "code",
      "source": [
        "df.rating.median()"
      ],
      "metadata": {
        "colab": {
          "base_uri": "https://localhost:8080/"
        },
        "id": "pMVN5tuHLojf",
        "outputId": "c6f42b87-02fd-4993-a6c9-2f899feff3f1"
      },
      "execution_count": null,
      "outputs": [
        {
          "output_type": "execute_result",
          "data": {
            "text/plain": [
              "5.9"
            ]
          },
          "metadata": {},
          "execution_count": 53
        }
      ]
    },
    {
      "cell_type": "markdown",
      "source": [
        "Поскольку мода и медиана слаба подвержены выбросам, их значения не изменились даже без учета экстремальных низких и высоких значений.\n",
        "\n",
        "Изменилось лишь среднее значение, показатель которого уменьшился. В качестве причины можно обозначить то, что большинство выбросов - это именно крупные значения.\n",
        "\n",
        "В данном конкретном случае методы удаления выбросов по межквартильному размаху и по среднеквадратичному отклонению показывают практически одинаковые результаты с разницей лишь по среднему значению в 0,04. Следовательно, по представленным данным использование обоих методов равнозначно"
      ],
      "metadata": {
        "id": "N1WmvyP2GiMR"
      }
    },
    {
      "cell_type": "markdown",
      "source": [
        "\n",
        "5. Если в данных есть пропущенные значения, укажите, в каких переменных и сколько их."
      ],
      "metadata": {
        "id": "iFl4raDzQVur"
      }
    },
    {
      "cell_type": "markdown",
      "source": [
        "NA в датафрейме нет"
      ],
      "metadata": {
        "id": "4oHLD7_1PBGq"
      }
    },
    {
      "cell_type": "code",
      "source": [
        "df.info()"
      ],
      "metadata": {
        "colab": {
          "base_uri": "https://localhost:8080/"
        },
        "id": "KlgXT9nSGgsF",
        "outputId": "255a83e8-073e-4af1-9683-4c5d5cfc3ad6"
      },
      "execution_count": null,
      "outputs": [
        {
          "output_type": "stream",
          "name": "stdout",
          "text": [
            "<class 'pandas.core.frame.DataFrame'>\n",
            "RangeIndex: 52313 entries, 0 to 52312\n",
            "Data columns (total 10 columns):\n",
            " #   Column       Non-Null Count  Dtype  \n",
            "---  ------       --------------  -----  \n",
            " 0   movie_id     52313 non-null  object \n",
            " 1   movie_name   52313 non-null  object \n",
            " 2   year         52313 non-null  int64  \n",
            " 3   certificate  52313 non-null  object \n",
            " 4   runtime      52313 non-null  float64\n",
            " 5   genre        52313 non-null  object \n",
            " 6   rating       52313 non-null  float64\n",
            " 7   description  52313 non-null  object \n",
            " 8   director     52313 non-null  object \n",
            " 9   age_rating   52313 non-null  object \n",
            "dtypes: float64(2), int64(1), object(7)\n",
            "memory usage: 4.0+ MB\n"
          ]
        }
      ]
    },
    {
      "cell_type": "markdown",
      "source": [
        "#Этап 4"
      ],
      "metadata": {
        "id": "NfeSWXBboYHx"
      }
    },
    {
      "cell_type": "markdown",
      "source": [
        "1. Постройте корреляционную матрицу только по тем признакам, которые можно интерпретировать. (Если таких пар очень много, постройте по 5 любым)\n"
      ],
      "metadata": {
        "id": "Faj3zz4LQnpC"
      }
    },
    {
      "cell_type": "code",
      "source": [
        "ax=sns.heatmap(df.corr(), annot=True)\n",
        "\n",
        "plt.title('Корреляционная матрица между годом, продолжительностью и рейтингом фильмов')\n",
        "plt.xlabel('Год, продолжительность, рейтинг')\n",
        "plt.ylabel('Рейтинг, продолжительность, год')"
      ],
      "metadata": {
        "colab": {
          "base_uri": "https://localhost:8080/",
          "height": 544
        },
        "id": "LfRedcyHvr5g",
        "outputId": "ab00dc83-53cf-446b-b83c-2de1d33a6694"
      },
      "execution_count": null,
      "outputs": [
        {
          "output_type": "stream",
          "name": "stderr",
          "text": [
            "<ipython-input-44-0f16a5d21fab>:1: FutureWarning: The default value of numeric_only in DataFrame.corr is deprecated. In a future version, it will default to False. Select only valid columns or specify the value of numeric_only to silence this warning.\n",
            "  ax=sns.heatmap(df.corr(), annot=True)\n"
          ]
        },
        {
          "output_type": "execute_result",
          "data": {
            "text/plain": [
              "Text(50.58159722222221, 0.5, 'Рейтинг, продолжительность, год')"
            ]
          },
          "metadata": {},
          "execution_count": 44
        },
        {
          "output_type": "display_data",
          "data": {
            "text/plain": [
              "<Figure size 640x480 with 2 Axes>"
            ],
            "image/png": "[encoded data removed]"
          },
          "metadata": {}
        }
      ]
    },
    {
      "cell_type": "markdown",
      "source": [
        "2. Интепретируйте каждое значение корреляции в матрице"
      ],
      "metadata": {
        "id": "LofW6U1pQs2C"
      }
    },
    {
      "cell_type": "markdown",
      "source": [
        "Между всеми 5 парами наблюдается слабая корреляция (не более 0,31).\n",
        "\n",
        "Корреляция между продолжительностью фильма\\сериала и датой его выпуска, продолжительностью фильма и его рейтингом, наличием возрастного ограничения, а также продолжительностью фильма\\сериала и наличием возрастного ограничения является положительной. Следовательно, увеличение или уменьшение одного из показетелей влечёт за собой аналогичные изменения в другом показетеле.\n",
        "\n",
        "В свою очередь, между рейтингом и датой публикацией фильма\\сериала, а также наличием возрастного ограничения и рейтингом она отрицательная. Следовательно, увеличение или уменьшение одного из показателей приводит к зеркальной реакции другого показателя."
      ],
      "metadata": {
        "id": "X1UafKPzqT_u"
      }
    },
    {
      "cell_type": "markdown",
      "source": [
        "3. Постройте графики рассеяния по этим признакам"
      ],
      "metadata": {
        "id": "BuJgWGFeQpwA"
      }
    },
    {
      "cell_type": "code",
      "source": [
        "df.plot(x='year', y='runtime',kind='scatter', title='Продолжительность фильмов в зависимости от года', xlabel='Год создания фильма', ylabel='Продолжительность фильма', c='r')"
      ],
      "metadata": {
        "colab": {
          "base_uri": "https://localhost:8080/",
          "height": 508
        },
        "id": "ukTFdMGhqGWt",
        "outputId": "54a46e6b-35d7-4dde-8302-2aded42a71d8"
      },
      "execution_count": null,
      "outputs": [
        {
          "output_type": "execute_result",
          "data": {
            "text/plain": [
              "<Axes: title={'center': 'Продолжительность фильмов в зависимости от года'}, xlabel='Год создания фильма', ylabel='Продолжительность фильма'>"
            ]
          },
          "metadata": {},
          "execution_count": 22
        },
        {
          "output_type": "display_data",
          "data": {
            "text/plain": [
              "<Figure size 640x480 with 1 Axes>"
            ],
            "image/png": "[encoded data removed]"
          },
          "metadata": {}
        }
      ]
    },
    {
      "cell_type": "code",
      "source": [
        "df.plot(x='year', y='rating',kind='scatter', title='Рейтинг фильма в зависимости от года', xlabel='Год создания фильма', ylabel='Рейтинг фильма', c='y')"
      ],
      "metadata": {
        "colab": {
          "base_uri": "https://localhost:8080/",
          "height": 490
        },
        "id": "YPC0tiLLqp0s",
        "outputId": "238142ab-5f3e-4329-8840-8d9d77a55c2a"
      },
      "execution_count": null,
      "outputs": [
        {
          "output_type": "execute_result",
          "data": {
            "text/plain": [
              "<Axes: title={'center': 'Рейтинг фильма в зависимости от года'}, xlabel='Год создания фильма', ylabel='Рейтинг фильма'>"
            ]
          },
          "metadata": {},
          "execution_count": 23
        },
        {
          "output_type": "display_data",
          "data": {
            "text/plain": [
              "<Figure size 640x480 with 1 Axes>"
            ],
            "image/png": "[encoded data removed]"
          },
          "metadata": {}
        }
      ]
    },
    {
      "cell_type": "code",
      "source": [
        "df.plot(x='rating', y='runtime',kind='scatter', title='Рейтинг фильма в зависимости от продолжительности', xlabel='Рейтинг фильма', ylabel='Продолжительность фильма', c='g')"
      ],
      "metadata": {
        "colab": {
          "base_uri": "https://localhost:8080/",
          "height": 490
        },
        "id": "sU0-xOTsrAS9",
        "outputId": "b74179c1-cf9c-4fa9-8c7d-f73bb53d20e0"
      },
      "execution_count": null,
      "outputs": [
        {
          "output_type": "execute_result",
          "data": {
            "text/plain": [
              "<Axes: title={'center': 'Рейтинг фильма в зависимости от продолжительности'}, xlabel='Рейтинг фильма', ylabel='Продолжительность фильма'>"
            ]
          },
          "metadata": {},
          "execution_count": 26
        },
        {
          "output_type": "display_data",
          "data": {
            "text/plain": [
              "<Figure size 640x480 with 1 Axes>"
            ],
            "image/png": "[encoded data removed]"
          },
          "metadata": {}
        }
      ]
    },
    {
      "cell_type": "code",
      "source": [
        "df.plot(x='year', y='age_rating',kind='scatter', title='Наличие возрастного ограничения в зависимости от года', xlabel='Год создания фильма', ylabel='Есть ли возрастное ограничение (1 - да, 0 - нет)', c='r')"
      ],
      "metadata": {
        "id": "LHg7PHWLrI48",
        "colab": {
          "base_uri": "https://localhost:8080/",
          "height": 524
        },
        "outputId": "bcc718a8-65a5-4eb6-d75d-fd531b28d5fc"
      },
      "execution_count": null,
      "outputs": [
        {
          "output_type": "execute_result",
          "data": {
            "text/plain": [
              "<Axes: title={'center': 'Наличие возрастного ограничения в зависимости от года'}, xlabel='Год создания фильма', ylabel='Есть ли возрастное ограничение (1 - да, 0 - нет)'>"
            ]
          },
          "metadata": {},
          "execution_count": 4
        },
        {
          "output_type": "display_data",
          "data": {
            "text/plain": [
              "<Figure size 640x480 with 1 Axes>"
            ],
            "image/png": "[encoded data removed]"
          },
          "metadata": {}
        }
      ]
    },
    {
      "cell_type": "code",
      "source": [
        "df.plot(x='runtime', y='age_rating',kind='scatter', title='Наличие возрастного ограничения в зависимости от продолжительности', xlabel='Продолжительность', ylabel='Есть ли возрастное ограничение (1 - да, 0 - нет)', c='r')"
      ],
      "metadata": {
        "colab": {
          "base_uri": "https://localhost:8080/",
          "height": 507
        },
        "id": "8OErWgMWMGhP",
        "outputId": "62e86703-34fc-4ec9-d12a-f99b5644254c"
      },
      "execution_count": null,
      "outputs": [
        {
          "output_type": "execute_result",
          "data": {
            "text/plain": [
              "<Axes: title={'center': 'Наличие возрастного ограничения в зависимости от продолжительности'}, xlabel='Продолжительность', ylabel='Есть ли возрастное ограничение (1 - да, 0 - нет)'>"
            ]
          },
          "metadata": {},
          "execution_count": 36
        },
        {
          "output_type": "display_data",
          "data": {
            "text/plain": [
              "<Figure size 640x480 with 1 Axes>"
            ],
            "image/png": "[encoded data removed]"
          },
          "metadata": {}
        }
      ]
    }
  ]
}